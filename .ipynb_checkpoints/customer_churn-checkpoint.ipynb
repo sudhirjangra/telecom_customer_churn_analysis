{
 "cells": [
  {
   "cell_type": "markdown",
   "id": "94757cc6-a4d0-4829-8d16-d1052ed665d4",
   "metadata": {},
   "source": [
    "# Chustomer Churn Prediction\n",
    "## Project Overview\n",
    "A Data from the Telco DomainDue to tough competition the customers tend to swtich between the telecommunication service providersE.gan Airtel customer might transition to Jio services and vice versaThis behaviour from the customers is known as churn.\n",
    "\n",
    "## Objective\n",
    "To be able to predict if a customer would churn or notTake the Next Best Action to prevent churn.\n",
    "\n",
    "## Stages to be convered during the solution\n",
    "- `Data Merging and Wrangling:` Combining multiple data sources and cleaning the data\n",
    "- `Exploratory Data Analysis:` Understanding the relationship between features and with target\n",
    "- `Data Preprocessing:` Data Encoding, Missing Value Treatment, Outlier Treatment, Feature Scaling\n",
    "- `Model Building:` Train ML Model using the pre-processed data\n",
    "- `Evaluation:` Assess the Model's performace\n",
    "\n",
    "By the end of this project, you will have a complete workflow for predicting churn and/or creating classification models.\n"
   ]
  },
  {
   "cell_type": "markdown",
   "id": "236c2aca-9e82-46dc-b557-6cf825123c7f",
   "metadata": {},
   "source": [
    "## Domain Backgroud (Telecom Churn Stroy)\n",
    "\n",
    "I’m working as a data analyst at a telecommunications company, which I refer to as TeleComCoTeleComCo provides phone and internet services to a wide range of customers, and, as with most telecoms, customer churn—when customers stop using our service—is a key concernHigh churn rates lead to lost revenue and may signal customer dissatisfaction.\n",
    "\n",
    "Recently, in the last quarter, we noticed a rise in customers leaving for competitorsIn response, our management tasked my team with investigating the reasons behind this churn and developing a model to predict which customers are most at risk of leavingThe purpose is to identify these customers in advance and proactively offer them incentives to stay.\n",
    "\n",
    "For this project, I’ve been given a dataset detailing account information for both past and current customers, along with data indicating whether or not each customer eventually churnedMy primary responsibilities include:\n",
    "- Analyzing this dataset to detect patterns and factors associated with customer churn.\n",
    "- Building a predictive model (specifically using logistic regression) to estimate churn risk for individual customers.\n",
    "- Through this data exploration, I expect to identify patterns such as:\n",
    "- Customers with longer tenures are generally less likely to churn, while newer customers may be at greater risk.\n",
    "- Those with certain types of plans or higher monthly charges might be more inclined to leave, possibly due to the cost factor.\n",
    "- Demographic details could influence churn—for instance, senior citizens may use our services differently or have specific needs.\n",
    "\n",
    "Customer preferences, like opting for paperless billing or bundling phone and internet, might also relate to their likelihood of churning.\n",
    "By thoroughly investigating these factors and building the predictive model, we aim to help TeleComCo understand why customers leave and reduce future churn through timely interventions."
   ]
  },
  {
   "cell_type": "markdown",
   "id": "93f77035-7e8d-4c41-937e-1a25d3d734e0",
   "metadata": {},
   "source": [
    "## Dataset Description\n",
    "\n",
    "The dataset consists of customer records, each with a variety of features describing the customer and their service usage. Below is an overview of each column in the data:\n",
    "- `customer_id:` A unique identifier for each customer (e.g., a UUID). This is just an ID and not useful for prediction.\n",
    "- `customer_email:` The email address-of the customer. This is an identifier as well and not directly useful for the model.\n",
    "- `age:` The age of the customer (in years). This could be related to churn if different age groups have different service preferences.\n",
    "- `senior_citizen:` Whether the customer is a senior citizen or not (boolean: true/false). Typically, this might be derived from age (e.g., age > 65).\n",
    "- `partner:` Whether the customer has a partner or not (boolean). This indicates if the customer is married or in a long-term partnershipIn telecom, having a partner\n",
    "might mean family plans or shared services.\n",
    "- `dependents:` Whether the customer has dependents (children or other dependents) or not (boolean) Customers with dependents might have different usage (e.g.,family plans).\n",
    "- `tenure_months:` The number of months the customer has been with the company. Higher tenure might indicate loyalty; low tenure customers are newer and might be more likely to churn if they haven't established loyalty.\n",
    "- `phone_service:` Whether the customer has phone service with the company (boolean). Some customers might only have internet service; this feature tells if they also subscribed to phone.\n",
    "- `paperless_billing:` Whether the customer has opted for paperless billing (boolean). This could be a proxy for tech-savvy behavior or convenience preference.\n",
    "- `monthly_charges:` The amount `$` charged to the customer every month. This is like their monthly bill. Customers with higher bills might churn due to cost, or those with very low bills might churn if they are not using many services.\n",
    "- `total_charges:` The total amount `$` the customer has been charged since joining (this is roughly monthly_charges * tenure, plus any extras). This can indicate the overall value of the customer; low total charges might mean the customer is relatively new or has a low-cost plan.\n",
    "- `churn:` The target variable - whether the customer has churned (true = yes, the customer left; false = no, the customer is still with the company). This is what we want to\n",
    "predict.\n",
    "- `last_interaction_date:` The date of the last interaction with the customer (could be the last service use or last customer support call, etc.). This might give insight into how recently the customer was active. Customers with very old last interactions might have silently churned.\n",
    "- `region:` The geographic region or state where the customer resides (e.g., Ohio, California, etc.). Different regions might have different market conditions or competitor\n",
    "presence, possibly affecting churn.\n",
    "- `signup_date:` The date when the customer originally signed up for service. (Note: This column is present in one of the source files. When we merge data, some records might not have a signup_date if it wasn't recorded for them.)\n",
    "\n"
   ]
  },
  {
   "cell_type": "markdown",
   "id": "09c853bb-a2a7-4752-95c1-96ac8fd98115",
   "metadata": {},
   "source": [
    "## Potential Questions and Considerations:\n",
    "\n",
    "Based on the above features, here are some questions that might arise and that we will explore in this project:\n",
    "- Do older customers or senior citizens tend to churn more or less than younger customers?\n",
    "- Does having a partner or dependents influence churn? (For example, do single customers churn more often than those with family plans?)\n",
    "- How does tenure relate to churn? Are newer customers more likely to leave compared to long-term customers?\n",
    "- What about monthly charges? Are customers with high monthly charges more likely to churn (perhaps due to higher cost), or could it be that those with low charges churn because they might not be fully utilizing the service?\n",
    "- Are there any regional trends in churn? (We might check if certain regions have higher churn rates.)\n",
    "- How do features like phone service or paperless billing correlate with churn? (e.g., maybe paperless billing users are more engaged or maybe less personal interaction leads to higher churn?)\n",
    "- Are there outliers or unusual values in charges or tenure that need special attention?\n",
    "  \n",
    "`Try to answer these questions step-by-step in the analysis below.`"
   ]
  },
  {
   "cell_type": "markdown",
   "id": "423ef82c-5e34-4180-8ab5-2e9f64ef72fc",
   "metadata": {},
   "source": [
    "### Task 0: Import required libraries"
   ]
  },
  {
   "cell_type": "code",
   "execution_count": 68,
   "id": "3e5ccbbb-7aea-48e4-96ef-3aae4f3cc880",
   "metadata": {},
   "outputs": [],
   "source": [
    "import numpy as np\n",
    "import pandas as pd\n",
    "import matplotlib.pyplot as plt\n",
    "import seaborn as sns\n",
    "from sklearn.model_selection import train_test_split\n",
    "# to tell python to show the pyplot in the outplut seciton of the cell\n",
    "%matplotlib inline \n",
    "import warnings\n",
    "warnings.filterwarnings(\"ignore\")\n",
    "from sklearn.preprocessing import StandardScaler\n",
    "from sklearn.linear_model import LinearRegression\n",
    "from sklearn.metrics import mean_squared_error, r2_score"
   ]
  },
  {
   "cell_type": "markdown",
   "id": "7cc8eb83-15eb-47fc-b11f-da7d7c5dcd9e",
   "metadata": {},
   "source": [
    "### Task 1: Combine the two datasets\n",
    "The customer data is provided in two CSV files (say, Customer Churn_data.cv and Customer Churn data_2.cv). Load both files and combine them into a single pandas\n",
    "DataFrame for analysis. The two files have the same columns (one file may have an extra column signup_date). Ensure that after merging, all columns are aligned correctly."
   ]
  },
  {
   "cell_type": "code",
   "execution_count": 2,
   "id": "09c6ae3b-06df-4318-813e-99fdb0d449ab",
   "metadata": {},
   "outputs": [
    {
     "name": "stdout",
     "output_type": "stream",
     "text": [
      "(100000, 14)\n"
     ]
    },
    {
     "data": {
      "text/html": [
       "<div>\n",
       "<style scoped>\n",
       "    .dataframe tbody tr th:only-of-type {\n",
       "        vertical-align: middle;\n",
       "    }\n",
       "\n",
       "    .dataframe tbody tr th {\n",
       "        vertical-align: top;\n",
       "    }\n",
       "\n",
       "    .dataframe thead th {\n",
       "        text-align: right;\n",
       "    }\n",
       "</style>\n",
       "<table border=\"1\" class=\"dataframe\">\n",
       "  <thead>\n",
       "    <tr style=\"text-align: right;\">\n",
       "      <th></th>\n",
       "      <th>customer_id</th>\n",
       "      <th>customer_email</th>\n",
       "      <th>age</th>\n",
       "      <th>senior_citizen</th>\n",
       "      <th>partner</th>\n",
       "      <th>dependents</th>\n",
       "      <th>tenure_months</th>\n",
       "      <th>phone_service</th>\n",
       "      <th>paperless_billing</th>\n",
       "      <th>monthly_charges</th>\n",
       "      <th>total_charges</th>\n",
       "      <th>churn</th>\n",
       "      <th>last_interaction_date</th>\n",
       "      <th>region</th>\n",
       "    </tr>\n",
       "  </thead>\n",
       "  <tbody>\n",
       "    <tr>\n",
       "      <th>0</th>\n",
       "      <td>0f1eb305-e440-4576-9ab0-f8bdbf0bd17b</td>\n",
       "      <td>Preston.Cartwright54@hotmail.com</td>\n",
       "      <td>74</td>\n",
       "      <td>True</td>\n",
       "      <td>False</td>\n",
       "      <td>True</td>\n",
       "      <td>50</td>\n",
       "      <td>True</td>\n",
       "      <td>True</td>\n",
       "      <td>104.265791</td>\n",
       "      <td>1647.518754</td>\n",
       "      <td>False</td>\n",
       "      <td>2024-08-16T21:32:39.602Z</td>\n",
       "      <td>Ohio</td>\n",
       "    </tr>\n",
       "    <tr>\n",
       "      <th>1</th>\n",
       "      <td>0e0237a0-dc14-4610-9c74-5f50d72dd00a</td>\n",
       "      <td>Agustin_Treutel@yahoo.com</td>\n",
       "      <td>43</td>\n",
       "      <td>False</td>\n",
       "      <td>False</td>\n",
       "      <td>True</td>\n",
       "      <td>28</td>\n",
       "      <td>True</td>\n",
       "      <td>True</td>\n",
       "      <td>116.143274</td>\n",
       "      <td>4882.935552</td>\n",
       "      <td>False</td>\n",
       "      <td>2025-01-11T09:46:16.708Z</td>\n",
       "      <td>Oklahoma</td>\n",
       "    </tr>\n",
       "  </tbody>\n",
       "</table>\n",
       "</div>"
      ],
      "text/plain": [
       "                            customer_id                    customer_email  \\\n",
       "0  0f1eb305-e440-4576-9ab0-f8bdbf0bd17b  Preston.Cartwright54@hotmail.com   \n",
       "1  0e0237a0-dc14-4610-9c74-5f50d72dd00a         Agustin_Treutel@yahoo.com   \n",
       "\n",
       "   age  senior_citizen  partner  dependents  tenure_months  phone_service  \\\n",
       "0   74            True    False        True             50           True   \n",
       "1   43           False    False        True             28           True   \n",
       "\n",
       "   paperless_billing  monthly_charges  total_charges  churn  \\\n",
       "0               True       104.265791    1647.518754  False   \n",
       "1               True       116.143274    4882.935552  False   \n",
       "\n",
       "      last_interaction_date    region  \n",
       "0  2024-08-16T21:32:39.602Z      Ohio  \n",
       "1  2025-01-11T09:46:16.708Z  Oklahoma  "
      ]
     },
     "execution_count": 2,
     "metadata": {},
     "output_type": "execute_result"
    }
   ],
   "source": [
    "file1 = pd.read_csv(\"Customer_Churn_data.csv\")\n",
    "print(file1.shape)\n",
    "file1.head(2)"
   ]
  },
  {
   "cell_type": "code",
   "execution_count": 3,
   "id": "4745f66e-ac76-4836-bcdd-592def3f05fb",
   "metadata": {},
   "outputs": [
    {
     "name": "stdout",
     "output_type": "stream",
     "text": [
      "(100000, 15)\n"
     ]
    },
    {
     "data": {
      "text/html": [
       "<div>\n",
       "<style scoped>\n",
       "    .dataframe tbody tr th:only-of-type {\n",
       "        vertical-align: middle;\n",
       "    }\n",
       "\n",
       "    .dataframe tbody tr th {\n",
       "        vertical-align: top;\n",
       "    }\n",
       "\n",
       "    .dataframe thead th {\n",
       "        text-align: right;\n",
       "    }\n",
       "</style>\n",
       "<table border=\"1\" class=\"dataframe\">\n",
       "  <thead>\n",
       "    <tr style=\"text-align: right;\">\n",
       "      <th></th>\n",
       "      <th>customer_id</th>\n",
       "      <th>customer_email</th>\n",
       "      <th>age</th>\n",
       "      <th>senior_citizen</th>\n",
       "      <th>partner</th>\n",
       "      <th>dependents</th>\n",
       "      <th>tenure_months</th>\n",
       "      <th>phone_service</th>\n",
       "      <th>paperless_billing</th>\n",
       "      <th>monthly_charges</th>\n",
       "      <th>total_charges</th>\n",
       "      <th>churn</th>\n",
       "      <th>last_interaction_date</th>\n",
       "      <th>region</th>\n",
       "      <th>signup_date</th>\n",
       "    </tr>\n",
       "  </thead>\n",
       "  <tbody>\n",
       "    <tr>\n",
       "      <th>0</th>\n",
       "      <td>132dcfb5-759a-4640-9156-79319d71b7f1</td>\n",
       "      <td>Jarod_Heidenreich@yahoo.com</td>\n",
       "      <td>62</td>\n",
       "      <td>False</td>\n",
       "      <td>True</td>\n",
       "      <td>True</td>\n",
       "      <td>28</td>\n",
       "      <td>True</td>\n",
       "      <td>False</td>\n",
       "      <td>129.603120</td>\n",
       "      <td>2285.999558</td>\n",
       "      <td>False</td>\n",
       "      <td>2024-09-19T04:01:17.383Z</td>\n",
       "      <td>Virginia</td>\n",
       "      <td>2023-04-23T21:52:19.052Z</td>\n",
       "    </tr>\n",
       "    <tr>\n",
       "      <th>1</th>\n",
       "      <td>c560d179-94a5-487a-9fd6-b1174fea339f</td>\n",
       "      <td>Julianne67@gmail.com</td>\n",
       "      <td>64</td>\n",
       "      <td>False</td>\n",
       "      <td>True</td>\n",
       "      <td>True</td>\n",
       "      <td>6</td>\n",
       "      <td>False</td>\n",
       "      <td>False</td>\n",
       "      <td>27.488638</td>\n",
       "      <td>5045.149417</td>\n",
       "      <td>False</td>\n",
       "      <td>2024-12-08T06:33:58.864Z</td>\n",
       "      <td>Pennsylvania</td>\n",
       "      <td>2022-01-03T16:36:13.193Z</td>\n",
       "    </tr>\n",
       "  </tbody>\n",
       "</table>\n",
       "</div>"
      ],
      "text/plain": [
       "                            customer_id               customer_email  age  \\\n",
       "0  132dcfb5-759a-4640-9156-79319d71b7f1  Jarod_Heidenreich@yahoo.com   62   \n",
       "1  c560d179-94a5-487a-9fd6-b1174fea339f         Julianne67@gmail.com   64   \n",
       "\n",
       "   senior_citizen  partner  dependents  tenure_months  phone_service  \\\n",
       "0           False     True        True             28           True   \n",
       "1           False     True        True              6          False   \n",
       "\n",
       "   paperless_billing  monthly_charges  total_charges  churn  \\\n",
       "0              False       129.603120    2285.999558  False   \n",
       "1              False        27.488638    5045.149417  False   \n",
       "\n",
       "      last_interaction_date        region               signup_date  \n",
       "0  2024-09-19T04:01:17.383Z      Virginia  2023-04-23T21:52:19.052Z  \n",
       "1  2024-12-08T06:33:58.864Z  Pennsylvania  2022-01-03T16:36:13.193Z  "
      ]
     },
     "execution_count": 3,
     "metadata": {},
     "output_type": "execute_result"
    }
   ],
   "source": [
    "file2 = pd.read_csv(\"Customer_Churn_data_2.csv\")\n",
    "print(file2.shape)\n",
    "file2.head(2)"
   ]
  },
  {
   "cell_type": "markdown",
   "id": "351ecaa1-aee3-4710-85c6-2eafd8d63eb9",
   "metadata": {},
   "source": [
    "### Task 2: View the first few rows of the combined data\n",
    "\n",
    "After merging, use the DataFrame's head© method to display the first 5 rows of the combined dataset. This will help verify that the data from both files has been concatenated\n",
    "correctly and that columns are as expected."
   ]
  },
  {
   "cell_type": "code",
   "execution_count": 4,
   "id": "7fdf7d6e-91ac-4715-ad1f-f3b48aa87406",
   "metadata": {},
   "outputs": [
    {
     "data": {
      "text/html": [
       "<div>\n",
       "<style scoped>\n",
       "    .dataframe tbody tr th:only-of-type {\n",
       "        vertical-align: middle;\n",
       "    }\n",
       "\n",
       "    .dataframe tbody tr th {\n",
       "        vertical-align: top;\n",
       "    }\n",
       "\n",
       "    .dataframe thead th {\n",
       "        text-align: right;\n",
       "    }\n",
       "</style>\n",
       "<table border=\"1\" class=\"dataframe\">\n",
       "  <thead>\n",
       "    <tr style=\"text-align: right;\">\n",
       "      <th></th>\n",
       "      <th>customer_id</th>\n",
       "      <th>customer_email</th>\n",
       "      <th>age</th>\n",
       "      <th>senior_citizen</th>\n",
       "      <th>partner</th>\n",
       "      <th>dependents</th>\n",
       "      <th>tenure_months</th>\n",
       "      <th>phone_service</th>\n",
       "      <th>paperless_billing</th>\n",
       "      <th>monthly_charges</th>\n",
       "      <th>total_charges</th>\n",
       "      <th>churn</th>\n",
       "      <th>last_interaction_date</th>\n",
       "      <th>region</th>\n",
       "      <th>signup_date</th>\n",
       "    </tr>\n",
       "  </thead>\n",
       "  <tbody>\n",
       "    <tr>\n",
       "      <th>37405</th>\n",
       "      <td>677446c9-d44c-4efb-b673-943b06447f3a</td>\n",
       "      <td>Nels_Brown68@hotmail.com</td>\n",
       "      <td>53</td>\n",
       "      <td>True</td>\n",
       "      <td>False</td>\n",
       "      <td>False</td>\n",
       "      <td>24</td>\n",
       "      <td>True</td>\n",
       "      <td>True</td>\n",
       "      <td>103.259610</td>\n",
       "      <td>4299.516796</td>\n",
       "      <td>True</td>\n",
       "      <td>2024-10-18T09:41:38.896Z</td>\n",
       "      <td>Michigan</td>\n",
       "      <td>NaN</td>\n",
       "    </tr>\n",
       "    <tr>\n",
       "      <th>50166</th>\n",
       "      <td>f81ba3d2-d230-46a8-9c5e-26bee2cabb7c</td>\n",
       "      <td>Noble_Rice-Koelpin61@hotmail.com</td>\n",
       "      <td>55</td>\n",
       "      <td>True</td>\n",
       "      <td>True</td>\n",
       "      <td>True</td>\n",
       "      <td>60</td>\n",
       "      <td>False</td>\n",
       "      <td>False</td>\n",
       "      <td>104.299059</td>\n",
       "      <td>4137.201368</td>\n",
       "      <td>False</td>\n",
       "      <td>2025-01-28T05:59:08.247Z</td>\n",
       "      <td>Ohio</td>\n",
       "      <td>NaN</td>\n",
       "    </tr>\n",
       "    <tr>\n",
       "      <th>99490</th>\n",
       "      <td>7ddd15c3-fe2e-49ae-b91f-edb0cbe8534c</td>\n",
       "      <td>Paris.Ratke@yahoo.com</td>\n",
       "      <td>51</td>\n",
       "      <td>False</td>\n",
       "      <td>True</td>\n",
       "      <td>True</td>\n",
       "      <td>16</td>\n",
       "      <td>True</td>\n",
       "      <td>True</td>\n",
       "      <td>100.736457</td>\n",
       "      <td>623.204024</td>\n",
       "      <td>False</td>\n",
       "      <td>2025-07-10T10:07:19.575Z</td>\n",
       "      <td>Michigan</td>\n",
       "      <td>NaN</td>\n",
       "    </tr>\n",
       "    <tr>\n",
       "      <th>56257</th>\n",
       "      <td>963717ff-0c48-4cca-b348-f39c195b8bd1</td>\n",
       "      <td>Cordie71@hotmail.com</td>\n",
       "      <td>46</td>\n",
       "      <td>True</td>\n",
       "      <td>False</td>\n",
       "      <td>False</td>\n",
       "      <td>8</td>\n",
       "      <td>True</td>\n",
       "      <td>True</td>\n",
       "      <td>64.950399</td>\n",
       "      <td>2517.431507</td>\n",
       "      <td>False</td>\n",
       "      <td>2024-10-23T21:30:50.432Z</td>\n",
       "      <td>Vermont</td>\n",
       "      <td>NaN</td>\n",
       "    </tr>\n",
       "    <tr>\n",
       "      <th>185119</th>\n",
       "      <td>1b3cb7d5-6faf-4de8-89c3-c43490b59e6f</td>\n",
       "      <td>Naomie.Kautzer60@yahoo.com</td>\n",
       "      <td>74</td>\n",
       "      <td>False</td>\n",
       "      <td>True</td>\n",
       "      <td>True</td>\n",
       "      <td>32</td>\n",
       "      <td>True</td>\n",
       "      <td>True</td>\n",
       "      <td>120.957413</td>\n",
       "      <td>683.628919</td>\n",
       "      <td>True</td>\n",
       "      <td>2024-12-02T20:41:25.666Z</td>\n",
       "      <td>South Carolina</td>\n",
       "      <td>2022-10-22T15:14:10.657Z</td>\n",
       "    </tr>\n",
       "  </tbody>\n",
       "</table>\n",
       "</div>"
      ],
      "text/plain": [
       "                                 customer_id  \\\n",
       "37405   677446c9-d44c-4efb-b673-943b06447f3a   \n",
       "50166   f81ba3d2-d230-46a8-9c5e-26bee2cabb7c   \n",
       "99490   7ddd15c3-fe2e-49ae-b91f-edb0cbe8534c   \n",
       "56257   963717ff-0c48-4cca-b348-f39c195b8bd1   \n",
       "185119  1b3cb7d5-6faf-4de8-89c3-c43490b59e6f   \n",
       "\n",
       "                          customer_email  age  senior_citizen  partner  \\\n",
       "37405           Nels_Brown68@hotmail.com   53            True    False   \n",
       "50166   Noble_Rice-Koelpin61@hotmail.com   55            True     True   \n",
       "99490              Paris.Ratke@yahoo.com   51           False     True   \n",
       "56257               Cordie71@hotmail.com   46            True    False   \n",
       "185119        Naomie.Kautzer60@yahoo.com   74           False     True   \n",
       "\n",
       "        dependents  tenure_months  phone_service  paperless_billing  \\\n",
       "37405        False             24           True               True   \n",
       "50166         True             60          False              False   \n",
       "99490         True             16           True               True   \n",
       "56257        False              8           True               True   \n",
       "185119        True             32           True               True   \n",
       "\n",
       "        monthly_charges  total_charges  churn     last_interaction_date  \\\n",
       "37405        103.259610    4299.516796   True  2024-10-18T09:41:38.896Z   \n",
       "50166        104.299059    4137.201368  False  2025-01-28T05:59:08.247Z   \n",
       "99490        100.736457     623.204024  False  2025-07-10T10:07:19.575Z   \n",
       "56257         64.950399    2517.431507  False  2024-10-23T21:30:50.432Z   \n",
       "185119       120.957413     683.628919   True  2024-12-02T20:41:25.666Z   \n",
       "\n",
       "                region               signup_date  \n",
       "37405         Michigan                       NaN  \n",
       "50166             Ohio                       NaN  \n",
       "99490         Michigan                       NaN  \n",
       "56257          Vermont                       NaN  \n",
       "185119  South Carolina  2022-10-22T15:14:10.657Z  "
      ]
     },
     "execution_count": 4,
     "metadata": {},
     "output_type": "execute_result"
    }
   ],
   "source": [
    "data = pd.concat([file1, file2], ignore_index=True)\n",
    "data.sample(5)"
   ]
  },
  {
   "cell_type": "markdown",
   "id": "86c0f592-504d-41c0-ae7f-9a63d668407f",
   "metadata": {},
   "source": [
    "### Task 3: Understand the dataset dimensions and dtypes\n",
    "Determine the size of the combined dataset. Find out how many rows and columns are present. This can be done using the DataFrame's .info0 method. This will show the data type of each column and whether there are any missing values (non-null counts) in each column. Verfy that numeric columns are correctly recognized (e.g. age.\n",
    "tenure months should be int or float, charges should be float, churn and otner booleans might appear as bool"
   ]
  },
  {
   "cell_type": "code",
   "execution_count": 5,
   "id": "af229325-f4fa-4f64-9200-27d51deffc92",
   "metadata": {},
   "outputs": [
    {
     "name": "stdout",
     "output_type": "stream",
     "text": [
      "<class 'pandas.core.frame.DataFrame'>\n",
      "RangeIndex: 200000 entries, 0 to 199999\n",
      "Data columns (total 15 columns):\n",
      " #   Column                 Non-Null Count   Dtype  \n",
      "---  ------                 --------------   -----  \n",
      " 0   customer_id            200000 non-null  object \n",
      " 1   customer_email         200000 non-null  object \n",
      " 2   age                    200000 non-null  int64  \n",
      " 3   senior_citizen         200000 non-null  bool   \n",
      " 4   partner                200000 non-null  bool   \n",
      " 5   dependents             200000 non-null  bool   \n",
      " 6   tenure_months          200000 non-null  int64  \n",
      " 7   phone_service          200000 non-null  bool   \n",
      " 8   paperless_billing      200000 non-null  bool   \n",
      " 9   monthly_charges        200000 non-null  float64\n",
      " 10  total_charges          200000 non-null  float64\n",
      " 11  churn                  200000 non-null  bool   \n",
      " 12  last_interaction_date  200000 non-null  object \n",
      " 13  region                 200000 non-null  object \n",
      " 14  signup_date            100000 non-null  object \n",
      "dtypes: bool(6), float64(2), int64(2), object(5)\n",
      "memory usage: 14.9+ MB\n"
     ]
    }
   ],
   "source": [
    "data.info()"
   ]
  },
  {
   "cell_type": "markdown",
   "id": "e3bc861a-f40e-438d-addd-9c9f583aaa06",
   "metadata": {},
   "source": [
    "`Verify if the data has been loaded perfectly`"
   ]
  },
  {
   "cell_type": "code",
   "execution_count": 6,
   "id": "ad7c0638-aacd-4d49-8659-3be3c12c107c",
   "metadata": {},
   "outputs": [
    {
     "name": "stdout",
     "output_type": "stream",
     "text": [
      "<class 'pandas.core.frame.DataFrame'>\n",
      "RangeIndex: 200000 entries, 0 to 199999\n",
      "Data columns (total 15 columns):\n",
      " #   Column                 Non-Null Count   Dtype              \n",
      "---  ------                 --------------   -----              \n",
      " 0   customer_id            200000 non-null  object             \n",
      " 1   customer_email         200000 non-null  object             \n",
      " 2   age                    200000 non-null  int64              \n",
      " 3   senior_citizen         200000 non-null  bool               \n",
      " 4   partner                200000 non-null  bool               \n",
      " 5   dependents             200000 non-null  bool               \n",
      " 6   tenure_months          200000 non-null  int64              \n",
      " 7   phone_service          200000 non-null  bool               \n",
      " 8   paperless_billing      200000 non-null  bool               \n",
      " 9   monthly_charges        200000 non-null  float64            \n",
      " 10  total_charges          200000 non-null  float64            \n",
      " 11  churn                  200000 non-null  bool               \n",
      " 12  last_interaction_date  200000 non-null  datetime64[ns, UTC]\n",
      " 13  region                 200000 non-null  object             \n",
      " 14  signup_date            100000 non-null  object             \n",
      "dtypes: bool(6), datetime64[ns, UTC](1), float64(2), int64(2), object(4)\n",
      "memory usage: 14.9+ MB\n"
     ]
    }
   ],
   "source": [
    "# last_interaction_date --> convert to datetime\n",
    "data['last_interaction_date'] = pd.to_datetime(data['last_interaction_date'])\n",
    "data.info()"
   ]
  },
  {
   "cell_type": "code",
   "execution_count": 7,
   "id": "c0cb16d6-7d6b-446b-af4a-4f0d6de93700",
   "metadata": {},
   "outputs": [
    {
     "name": "stdout",
     "output_type": "stream",
     "text": [
      "<class 'pandas.core.frame.DataFrame'>\n",
      "RangeIndex: 200000 entries, 0 to 199999\n",
      "Data columns (total 15 columns):\n",
      " #   Column                 Non-Null Count   Dtype              \n",
      "---  ------                 --------------   -----              \n",
      " 0   customer_id            200000 non-null  object             \n",
      " 1   customer_email         200000 non-null  object             \n",
      " 2   age                    200000 non-null  int64              \n",
      " 3   senior_citizen         200000 non-null  bool               \n",
      " 4   partner                200000 non-null  bool               \n",
      " 5   dependents             200000 non-null  bool               \n",
      " 6   tenure_months          200000 non-null  int64              \n",
      " 7   phone_service          200000 non-null  bool               \n",
      " 8   paperless_billing      200000 non-null  bool               \n",
      " 9   monthly_charges        200000 non-null  float64            \n",
      " 10  total_charges          200000 non-null  float64            \n",
      " 11  churn                  200000 non-null  bool               \n",
      " 12  last_interaction_date  200000 non-null  datetime64[ns, UTC]\n",
      " 13  region                 200000 non-null  object             \n",
      " 14  signup_date            100000 non-null  datetime64[ns, UTC]\n",
      "dtypes: bool(6), datetime64[ns, UTC](2), float64(2), int64(2), object(3)\n",
      "memory usage: 14.9+ MB\n"
     ]
    }
   ],
   "source": [
    "# signup_date --> convert into correct datatype (datetime)\n",
    "data['signup_date'] = pd.to_datetime(data['signup_date']) #infer_datetime_formate=True --> to handle mixed formats in a single col\n",
    "data.info()"
   ]
  },
  {
   "cell_type": "markdown",
   "id": "162b88fb-b377-4b8f-90b6-c585fb4429a6",
   "metadata": {},
   "source": [
    "### Task 4: Generate summary statistics\n",
    "Use the .describe() method on the DataFrame to get summary statistics for the numeric columns (count, mean, std, min, quartiles, max). This will give an overview of the\n",
    "distributions (e.g., average age, average tenure, min/max charges, etc.)."
   ]
  },
  {
   "cell_type": "code",
   "execution_count": 8,
   "id": "22a7bbf1-6c47-4a14-9bf3-ccda452756ec",
   "metadata": {},
   "outputs": [
    {
     "data": {
      "text/html": [
       "<div>\n",
       "<style scoped>\n",
       "    .dataframe tbody tr th:only-of-type {\n",
       "        vertical-align: middle;\n",
       "    }\n",
       "\n",
       "    .dataframe tbody tr th {\n",
       "        vertical-align: top;\n",
       "    }\n",
       "\n",
       "    .dataframe thead th {\n",
       "        text-align: right;\n",
       "    }\n",
       "</style>\n",
       "<table border=\"1\" class=\"dataframe\">\n",
       "  <thead>\n",
       "    <tr style=\"text-align: right;\">\n",
       "      <th></th>\n",
       "      <th>customer_id</th>\n",
       "      <th>customer_email</th>\n",
       "      <th>region</th>\n",
       "    </tr>\n",
       "  </thead>\n",
       "  <tbody>\n",
       "    <tr>\n",
       "      <th>count</th>\n",
       "      <td>200000</td>\n",
       "      <td>200000</td>\n",
       "      <td>200000</td>\n",
       "    </tr>\n",
       "    <tr>\n",
       "      <th>unique</th>\n",
       "      <td>200000</td>\n",
       "      <td>197332</td>\n",
       "      <td>50</td>\n",
       "    </tr>\n",
       "    <tr>\n",
       "      <th>top</th>\n",
       "      <td>0f1eb305-e440-4576-9ab0-f8bdbf0bd17b</td>\n",
       "      <td>Emerson28@gmail.com</td>\n",
       "      <td>North Dakota</td>\n",
       "    </tr>\n",
       "    <tr>\n",
       "      <th>freq</th>\n",
       "      <td>1</td>\n",
       "      <td>4</td>\n",
       "      <td>4180</td>\n",
       "    </tr>\n",
       "  </tbody>\n",
       "</table>\n",
       "</div>"
      ],
      "text/plain": [
       "                                 customer_id       customer_email  \\\n",
       "count                                 200000               200000   \n",
       "unique                                200000               197332   \n",
       "top     0f1eb305-e440-4576-9ab0-f8bdbf0bd17b  Emerson28@gmail.com   \n",
       "freq                                       1                    4   \n",
       "\n",
       "              region  \n",
       "count         200000  \n",
       "unique            50  \n",
       "top     North Dakota  \n",
       "freq            4180  "
      ]
     },
     "execution_count": 8,
     "metadata": {},
     "output_type": "execute_result"
    }
   ],
   "source": [
    "data.describe(include=object)"
   ]
  },
  {
   "cell_type": "code",
   "execution_count": 9,
   "id": "4d50870e-06fc-418a-8c68-a74225fce9c3",
   "metadata": {},
   "outputs": [
    {
     "data": {
      "text/html": [
       "<div>\n",
       "<style scoped>\n",
       "    .dataframe tbody tr th:only-of-type {\n",
       "        vertical-align: middle;\n",
       "    }\n",
       "\n",
       "    .dataframe tbody tr th {\n",
       "        vertical-align: top;\n",
       "    }\n",
       "\n",
       "    .dataframe thead th {\n",
       "        text-align: right;\n",
       "    }\n",
       "</style>\n",
       "<table border=\"1\" class=\"dataframe\">\n",
       "  <thead>\n",
       "    <tr style=\"text-align: right;\">\n",
       "      <th></th>\n",
       "      <th>age</th>\n",
       "      <th>tenure_months</th>\n",
       "    </tr>\n",
       "  </thead>\n",
       "  <tbody>\n",
       "    <tr>\n",
       "      <th>count</th>\n",
       "      <td>200000.000000</td>\n",
       "      <td>200000.000000</td>\n",
       "    </tr>\n",
       "    <tr>\n",
       "      <th>mean</th>\n",
       "      <td>54.031670</td>\n",
       "      <td>35.976150</td>\n",
       "    </tr>\n",
       "    <tr>\n",
       "      <th>std</th>\n",
       "      <td>21.048897</td>\n",
       "      <td>21.053301</td>\n",
       "    </tr>\n",
       "    <tr>\n",
       "      <th>min</th>\n",
       "      <td>18.000000</td>\n",
       "      <td>0.000000</td>\n",
       "    </tr>\n",
       "    <tr>\n",
       "      <th>25%</th>\n",
       "      <td>36.000000</td>\n",
       "      <td>18.000000</td>\n",
       "    </tr>\n",
       "    <tr>\n",
       "      <th>50%</th>\n",
       "      <td>54.000000</td>\n",
       "      <td>36.000000</td>\n",
       "    </tr>\n",
       "    <tr>\n",
       "      <th>75%</th>\n",
       "      <td>72.000000</td>\n",
       "      <td>54.000000</td>\n",
       "    </tr>\n",
       "    <tr>\n",
       "      <th>max</th>\n",
       "      <td>90.000000</td>\n",
       "      <td>72.000000</td>\n",
       "    </tr>\n",
       "  </tbody>\n",
       "</table>\n",
       "</div>"
      ],
      "text/plain": [
       "                 age  tenure_months\n",
       "count  200000.000000  200000.000000\n",
       "mean       54.031670      35.976150\n",
       "std        21.048897      21.053301\n",
       "min        18.000000       0.000000\n",
       "25%        36.000000      18.000000\n",
       "50%        54.000000      36.000000\n",
       "75%        72.000000      54.000000\n",
       "max        90.000000      72.000000"
      ]
     },
     "execution_count": 9,
     "metadata": {},
     "output_type": "execute_result"
    }
   ],
   "source": [
    "data.describe(include=int)"
   ]
  },
  {
   "cell_type": "code",
   "execution_count": 10,
   "id": "48d84490-17e7-44c5-be53-1f015ebba7fd",
   "metadata": {},
   "outputs": [
    {
     "data": {
      "text/html": [
       "<div>\n",
       "<style scoped>\n",
       "    .dataframe tbody tr th:only-of-type {\n",
       "        vertical-align: middle;\n",
       "    }\n",
       "\n",
       "    .dataframe tbody tr th {\n",
       "        vertical-align: top;\n",
       "    }\n",
       "\n",
       "    .dataframe thead th {\n",
       "        text-align: right;\n",
       "    }\n",
       "</style>\n",
       "<table border=\"1\" class=\"dataframe\">\n",
       "  <thead>\n",
       "    <tr style=\"text-align: right;\">\n",
       "      <th></th>\n",
       "      <th>monthly_charges</th>\n",
       "      <th>total_charges</th>\n",
       "    </tr>\n",
       "  </thead>\n",
       "  <tbody>\n",
       "    <tr>\n",
       "      <th>count</th>\n",
       "      <td>200000.000000</td>\n",
       "      <td>200000.000000</td>\n",
       "    </tr>\n",
       "    <tr>\n",
       "      <th>mean</th>\n",
       "      <td>76.618568</td>\n",
       "      <td>4006.213781</td>\n",
       "    </tr>\n",
       "    <tr>\n",
       "      <th>std</th>\n",
       "      <td>34.891140</td>\n",
       "      <td>2303.960157</td>\n",
       "    </tr>\n",
       "    <tr>\n",
       "      <th>min</th>\n",
       "      <td>18.000333</td>\n",
       "      <td>18.027625</td>\n",
       "    </tr>\n",
       "    <tr>\n",
       "      <th>25%</th>\n",
       "      <td>46.902328</td>\n",
       "      <td>2015.261182</td>\n",
       "    </tr>\n",
       "    <tr>\n",
       "      <th>50%</th>\n",
       "      <td>75.754153</td>\n",
       "      <td>3999.740393</td>\n",
       "    </tr>\n",
       "    <tr>\n",
       "      <th>75%</th>\n",
       "      <td>104.441355</td>\n",
       "      <td>6001.846181</td>\n",
       "    </tr>\n",
       "    <tr>\n",
       "      <th>max</th>\n",
       "      <td>149.998856</td>\n",
       "      <td>7999.994083</td>\n",
       "    </tr>\n",
       "  </tbody>\n",
       "</table>\n",
       "</div>"
      ],
      "text/plain": [
       "       monthly_charges  total_charges\n",
       "count    200000.000000  200000.000000\n",
       "mean         76.618568    4006.213781\n",
       "std          34.891140    2303.960157\n",
       "min          18.000333      18.027625\n",
       "25%          46.902328    2015.261182\n",
       "50%          75.754153    3999.740393\n",
       "75%         104.441355    6001.846181\n",
       "max         149.998856    7999.994083"
      ]
     },
     "execution_count": 10,
     "metadata": {},
     "output_type": "execute_result"
    }
   ],
   "source": [
    "data.describe(include=float)\n",
    "# tenure*monthly charges = total_charges"
   ]
  },
  {
   "cell_type": "code",
   "execution_count": 11,
   "id": "814a8a07-03aa-400f-9df5-347e18bc6b33",
   "metadata": {},
   "outputs": [
    {
     "data": {
      "text/html": [
       "<div>\n",
       "<style scoped>\n",
       "    .dataframe tbody tr th:only-of-type {\n",
       "        vertical-align: middle;\n",
       "    }\n",
       "\n",
       "    .dataframe tbody tr th {\n",
       "        vertical-align: top;\n",
       "    }\n",
       "\n",
       "    .dataframe thead th {\n",
       "        text-align: right;\n",
       "    }\n",
       "</style>\n",
       "<table border=\"1\" class=\"dataframe\">\n",
       "  <thead>\n",
       "    <tr style=\"text-align: right;\">\n",
       "      <th></th>\n",
       "      <th>senior_citizen</th>\n",
       "      <th>partner</th>\n",
       "      <th>dependents</th>\n",
       "      <th>phone_service</th>\n",
       "      <th>paperless_billing</th>\n",
       "      <th>churn</th>\n",
       "    </tr>\n",
       "  </thead>\n",
       "  <tbody>\n",
       "    <tr>\n",
       "      <th>count</th>\n",
       "      <td>200000</td>\n",
       "      <td>200000</td>\n",
       "      <td>200000</td>\n",
       "      <td>200000</td>\n",
       "      <td>200000</td>\n",
       "      <td>200000</td>\n",
       "    </tr>\n",
       "    <tr>\n",
       "      <th>unique</th>\n",
       "      <td>2</td>\n",
       "      <td>2</td>\n",
       "      <td>2</td>\n",
       "      <td>2</td>\n",
       "      <td>2</td>\n",
       "      <td>2</td>\n",
       "    </tr>\n",
       "    <tr>\n",
       "      <th>top</th>\n",
       "      <td>True</td>\n",
       "      <td>False</td>\n",
       "      <td>False</td>\n",
       "      <td>False</td>\n",
       "      <td>True</td>\n",
       "      <td>True</td>\n",
       "    </tr>\n",
       "    <tr>\n",
       "      <th>freq</th>\n",
       "      <td>100054</td>\n",
       "      <td>100001</td>\n",
       "      <td>100202</td>\n",
       "      <td>100043</td>\n",
       "      <td>100117</td>\n",
       "      <td>100013</td>\n",
       "    </tr>\n",
       "  </tbody>\n",
       "</table>\n",
       "</div>"
      ],
      "text/plain": [
       "       senior_citizen partner dependents phone_service paperless_billing  \\\n",
       "count          200000  200000     200000        200000            200000   \n",
       "unique              2       2          2             2                 2   \n",
       "top              True   False      False         False              True   \n",
       "freq           100054  100001     100202        100043            100117   \n",
       "\n",
       "         churn  \n",
       "count   200000  \n",
       "unique       2  \n",
       "top       True  \n",
       "freq    100013  "
      ]
     },
     "execution_count": 11,
     "metadata": {},
     "output_type": "execute_result"
    }
   ],
   "source": [
    "data.describe(include=bool)"
   ]
  },
  {
   "cell_type": "code",
   "execution_count": 12,
   "id": "03f478ef-e80b-43bb-a50f-97f57087a763",
   "metadata": {},
   "outputs": [
    {
     "data": {
      "text/html": [
       "<div>\n",
       "<style scoped>\n",
       "    .dataframe tbody tr th:only-of-type {\n",
       "        vertical-align: middle;\n",
       "    }\n",
       "\n",
       "    .dataframe tbody tr th {\n",
       "        vertical-align: top;\n",
       "    }\n",
       "\n",
       "    .dataframe thead th {\n",
       "        text-align: right;\n",
       "    }\n",
       "</style>\n",
       "<table border=\"1\" class=\"dataframe\">\n",
       "  <thead>\n",
       "    <tr style=\"text-align: right;\">\n",
       "      <th></th>\n",
       "      <th>last_interaction_date</th>\n",
       "      <th>signup_date</th>\n",
       "    </tr>\n",
       "  </thead>\n",
       "  <tbody>\n",
       "    <tr>\n",
       "      <th>count</th>\n",
       "      <td>200000</td>\n",
       "      <td>100000</td>\n",
       "    </tr>\n",
       "    <tr>\n",
       "      <th>mean</th>\n",
       "      <td>2025-02-02 21:13:13.894031872+00:00</td>\n",
       "      <td>2023-02-03 04:16:50.602242048+00:00</td>\n",
       "    </tr>\n",
       "    <tr>\n",
       "      <th>min</th>\n",
       "      <td>2024-08-04 12:54:19.943000+00:00</td>\n",
       "      <td>2020-08-05 13:04:51.741000+00:00</td>\n",
       "    </tr>\n",
       "    <tr>\n",
       "      <th>25%</th>\n",
       "      <td>2024-11-03 17:43:17.303000064+00:00</td>\n",
       "      <td>2021-11-04 20:06:11.245750016+00:00</td>\n",
       "    </tr>\n",
       "    <tr>\n",
       "      <th>50%</th>\n",
       "      <td>2025-02-02 22:44:00.503000064+00:00</td>\n",
       "      <td>2023-02-01 14:36:04.458499840+00:00</td>\n",
       "    </tr>\n",
       "    <tr>\n",
       "      <th>75%</th>\n",
       "      <td>2025-05-05 08:50:22.581000192+00:00</td>\n",
       "      <td>2024-05-02 17:46:17.339500032+00:00</td>\n",
       "    </tr>\n",
       "    <tr>\n",
       "      <th>max</th>\n",
       "      <td>2025-08-04 12:49:38.839000+00:00</td>\n",
       "      <td>2025-08-04 11:36:35.778000+00:00</td>\n",
       "    </tr>\n",
       "  </tbody>\n",
       "</table>\n",
       "</div>"
      ],
      "text/plain": [
       "                     last_interaction_date  \\\n",
       "count                               200000   \n",
       "mean   2025-02-02 21:13:13.894031872+00:00   \n",
       "min       2024-08-04 12:54:19.943000+00:00   \n",
       "25%    2024-11-03 17:43:17.303000064+00:00   \n",
       "50%    2025-02-02 22:44:00.503000064+00:00   \n",
       "75%    2025-05-05 08:50:22.581000192+00:00   \n",
       "max       2025-08-04 12:49:38.839000+00:00   \n",
       "\n",
       "                               signup_date  \n",
       "count                               100000  \n",
       "mean   2023-02-03 04:16:50.602242048+00:00  \n",
       "min       2020-08-05 13:04:51.741000+00:00  \n",
       "25%    2021-11-04 20:06:11.245750016+00:00  \n",
       "50%    2023-02-01 14:36:04.458499840+00:00  \n",
       "75%    2024-05-02 17:46:17.339500032+00:00  \n",
       "max       2025-08-04 11:36:35.778000+00:00  "
      ]
     },
     "execution_count": 12,
     "metadata": {},
     "output_type": "execute_result"
    }
   ],
   "source": [
    "data.describe(include=['datetimetz'])"
   ]
  },
  {
   "cell_type": "markdown",
   "id": "f298daa7-55ca-43e1-8611-da4a1d3a4a42",
   "metadata": {},
   "source": [
    "### Task 5: Check for duplicate entries\n",
    "Ensure there are no duplicate customer records in the data. For instance, verify if customer_id is unique across the combined dataset. You can use pandas functions like\n",
    ".duplicated() on the customer_id column to check for any duplicates."
   ]
  },
  {
   "cell_type": "code",
   "execution_count": 13,
   "id": "917e0c9d-70a0-4b69-9c78-80a3884a06e7",
   "metadata": {},
   "outputs": [
    {
     "data": {
      "text/plain": [
       "0"
      ]
     },
     "execution_count": 13,
     "metadata": {},
     "output_type": "execute_result"
    }
   ],
   "source": [
    "data['customer_id'].duplicated().sum() #number of duplicated rows in the given col/df"
   ]
  },
  {
   "cell_type": "code",
   "execution_count": 14,
   "id": "b5b9cf86-917b-460d-b455-99f5a4cabb3d",
   "metadata": {},
   "outputs": [
    {
     "data": {
      "text/plain": [
       "0"
      ]
     },
     "execution_count": 14,
     "metadata": {},
     "output_type": "execute_result"
    }
   ],
   "source": [
    "data.duplicated().sum() # number of duplicated rows in the given df"
   ]
  },
  {
   "cell_type": "code",
   "execution_count": 15,
   "id": "7dd3da38-e11e-4a75-80d0-2e6aad7bc0f7",
   "metadata": {},
   "outputs": [
    {
     "data": {
      "text/html": [
       "<div>\n",
       "<style scoped>\n",
       "    .dataframe tbody tr th:only-of-type {\n",
       "        vertical-align: middle;\n",
       "    }\n",
       "\n",
       "    .dataframe tbody tr th {\n",
       "        vertical-align: top;\n",
       "    }\n",
       "\n",
       "    .dataframe thead th {\n",
       "        text-align: right;\n",
       "    }\n",
       "</style>\n",
       "<table border=\"1\" class=\"dataframe\">\n",
       "  <thead>\n",
       "    <tr style=\"text-align: right;\">\n",
       "      <th></th>\n",
       "      <th>customer_id</th>\n",
       "      <th>customer_email</th>\n",
       "      <th>age</th>\n",
       "      <th>senior_citizen</th>\n",
       "      <th>partner</th>\n",
       "      <th>dependents</th>\n",
       "      <th>tenure_months</th>\n",
       "      <th>phone_service</th>\n",
       "      <th>paperless_billing</th>\n",
       "      <th>monthly_charges</th>\n",
       "      <th>total_charges</th>\n",
       "      <th>churn</th>\n",
       "      <th>last_interaction_date</th>\n",
       "      <th>region</th>\n",
       "      <th>signup_date</th>\n",
       "    </tr>\n",
       "  </thead>\n",
       "  <tbody>\n",
       "    <tr>\n",
       "      <th>195488</th>\n",
       "      <td>87adb724-ccea-427b-8e6c-a245e83ddfcf</td>\n",
       "      <td>Clementine_Macejkovic7@hotmail.com</td>\n",
       "      <td>35</td>\n",
       "      <td>False</td>\n",
       "      <td>True</td>\n",
       "      <td>True</td>\n",
       "      <td>50</td>\n",
       "      <td>True</td>\n",
       "      <td>False</td>\n",
       "      <td>69.385293</td>\n",
       "      <td>3465.448052</td>\n",
       "      <td>False</td>\n",
       "      <td>2025-06-29 15:53:44.830000+00:00</td>\n",
       "      <td>Georgia</td>\n",
       "      <td>2021-04-07 21:07:30.819000+00:00</td>\n",
       "    </tr>\n",
       "    <tr>\n",
       "      <th>108314</th>\n",
       "      <td>2dba54f2-568c-4f20-93ab-abcb2a9510c0</td>\n",
       "      <td>Janick94@hotmail.com</td>\n",
       "      <td>56</td>\n",
       "      <td>False</td>\n",
       "      <td>True</td>\n",
       "      <td>False</td>\n",
       "      <td>21</td>\n",
       "      <td>True</td>\n",
       "      <td>True</td>\n",
       "      <td>24.702020</td>\n",
       "      <td>2284.389586</td>\n",
       "      <td>False</td>\n",
       "      <td>2025-04-25 13:46:08.112000+00:00</td>\n",
       "      <td>Louisiana</td>\n",
       "      <td>2024-10-11 05:45:32.088000+00:00</td>\n",
       "    </tr>\n",
       "    <tr>\n",
       "      <th>87650</th>\n",
       "      <td>cdb441c1-739e-4f99-bdcd-411f7b9940ee</td>\n",
       "      <td>Tania_Yundt4@gmail.com</td>\n",
       "      <td>43</td>\n",
       "      <td>False</td>\n",
       "      <td>False</td>\n",
       "      <td>False</td>\n",
       "      <td>71</td>\n",
       "      <td>True</td>\n",
       "      <td>False</td>\n",
       "      <td>27.093051</td>\n",
       "      <td>1205.557099</td>\n",
       "      <td>True</td>\n",
       "      <td>2025-03-04 21:01:15.670000+00:00</td>\n",
       "      <td>New Hampshire</td>\n",
       "      <td>NaT</td>\n",
       "    </tr>\n",
       "  </tbody>\n",
       "</table>\n",
       "</div>"
      ],
      "text/plain": [
       "                                 customer_id  \\\n",
       "195488  87adb724-ccea-427b-8e6c-a245e83ddfcf   \n",
       "108314  2dba54f2-568c-4f20-93ab-abcb2a9510c0   \n",
       "87650   cdb441c1-739e-4f99-bdcd-411f7b9940ee   \n",
       "\n",
       "                            customer_email  age  senior_citizen  partner  \\\n",
       "195488  Clementine_Macejkovic7@hotmail.com   35           False     True   \n",
       "108314                Janick94@hotmail.com   56           False     True   \n",
       "87650               Tania_Yundt4@gmail.com   43           False    False   \n",
       "\n",
       "        dependents  tenure_months  phone_service  paperless_billing  \\\n",
       "195488        True             50           True              False   \n",
       "108314       False             21           True               True   \n",
       "87650        False             71           True              False   \n",
       "\n",
       "        monthly_charges  total_charges  churn  \\\n",
       "195488        69.385293    3465.448052  False   \n",
       "108314        24.702020    2284.389586  False   \n",
       "87650         27.093051    1205.557099   True   \n",
       "\n",
       "                  last_interaction_date         region  \\\n",
       "195488 2025-06-29 15:53:44.830000+00:00        Georgia   \n",
       "108314 2025-04-25 13:46:08.112000+00:00      Louisiana   \n",
       "87650  2025-03-04 21:01:15.670000+00:00  New Hampshire   \n",
       "\n",
       "                            signup_date  \n",
       "195488 2021-04-07 21:07:30.819000+00:00  \n",
       "108314 2024-10-11 05:45:32.088000+00:00  \n",
       "87650                               NaT  "
      ]
     },
     "execution_count": 15,
     "metadata": {},
     "output_type": "execute_result"
    }
   ],
   "source": [
    "data.sample(3)"
   ]
  },
  {
   "cell_type": "markdown",
   "id": "56069fab-9026-47f7-8a8e-36a9f74cda7a",
   "metadata": {},
   "source": [
    "### Task 6: Identify missing values\n",
    "Identify if there are any missing values in the dataset and in which columns. Use methods like .isnull().sum() to get the count of null or NaN values per column. This will highlight columns that need attention (e.g., we expect many missing in signup_date if one file lacked it)."
   ]
  },
  {
   "cell_type": "code",
   "execution_count": 16,
   "id": "af54fdef-99d6-4ce0-835a-bfc666a0388d",
   "metadata": {},
   "outputs": [
    {
     "data": {
      "text/plain": [
       "customer_id                   0\n",
       "customer_email                0\n",
       "age                           0\n",
       "senior_citizen                0\n",
       "partner                       0\n",
       "dependents                    0\n",
       "tenure_months                 0\n",
       "phone_service                 0\n",
       "paperless_billing             0\n",
       "monthly_charges               0\n",
       "total_charges                 0\n",
       "churn                         0\n",
       "last_interaction_date         0\n",
       "region                        0\n",
       "signup_date              100000\n",
       "dtype: int64"
      ]
     },
     "execution_count": 16,
     "metadata": {},
     "output_type": "execute_result"
    }
   ],
   "source": [
    "data.isnull().sum()"
   ]
  },
  {
   "cell_type": "code",
   "execution_count": 17,
   "id": "19df9439-09ed-4d42-bc9f-140b0197575e",
   "metadata": {},
   "outputs": [
    {
     "data": {
      "text/plain": [
       "<Axes: >"
      ]
     },
     "execution_count": 17,
     "metadata": {},
     "output_type": "execute_result"
    },
    {
     "data": {
      "image/png": "[encoded data removed]",
      "text/plain": [
       "<Figure size 640x480 with 2 Axes>"
      ]
     },
     "metadata": {},
     "output_type": "display_data"
    }
   ],
   "source": [
    "sns.heatmap(data.isnull())"
   ]
  },
  {
   "cell_type": "markdown",
   "id": "a8dc7ff3-3a4f-475d-8ce5-babad6981cb5",
   "metadata": {},
   "source": [
    "### Task 7: Analyze the pattern of missing data\n",
    "- Examine the missing data pattern and determine the likely mechanism: - Are the missing values MCAR (Missing Completely at Random) - i.e., no identifiable pattern, just\n",
    "random? - Or MAR (Missing At Random) - i.e., the missingness is related to some other observed data? - Or MNAR (Missing Not at Random) - i.e., the missingness has a\n",
    "pattern related to the unobserved value itself or is systematically absent for a particular subset?\n",
    "\n",
    "- Question: Based on the columns with missing data, what type of missingness do you suspect? For example, if signup_date is missing for all customers from one file, that's a systematic pattern (likely MNAR or a data collection issue). Document your reasoning. --> It is not missing at random, it is missing on purpose."
   ]
  },
  {
   "cell_type": "markdown",
   "id": "e075bfb2-cff4-4739-800a-5f1c5b9cfc9c",
   "metadata": {},
   "source": [
    "### Task 8: Handle missing values\n",
    "- Decide on a strategy to handle the missing data identified above. For instance: - If a column has too many missing values (or is not crucial), you might choose to drop that column. - If only a few records have missing values, you might choose to fill (impute) them with an appropriate value (mean, median, mode, or a special indicator).\n",
    "- Apply the chosen strategy. For example, if signup_date is missing for a large portion and not critical to the analysis, you might drop the signup_date column to simplify the\n",
    "dataset."
   ]
  },
  {
   "cell_type": "markdown",
   "id": "60c5940e-c83e-4216-8a08-799c984e47fd",
   "metadata": {},
   "source": [
    "### Task 9: Drop unneeded columns\n",
    "- There are some columns that are not useful for predicting churn and could be removed to simplify the analysis. Typically, identifier columns like customer_id and customer_email do not have predictive value. Also, if we have decided not to use certain columns (like dates or any others) for modeling, we can drop them as well to avoid clutter.\n",
    "- Remove the following: - customer_id and customer_email (identifiers) - last_interaction_date (a date field that we will not use in the model for now, to keep things simple) -\n",
    "signup_date (if you did not drop it already in the missing data step)"
   ]
  },
  {
   "cell_type": "code",
   "execution_count": 18,
   "id": "e2906ecc-f2d6-42b9-99cc-d99a08a0868a",
   "metadata": {},
   "outputs": [
    {
     "name": "stdout",
     "output_type": "stream",
     "text": [
      "<class 'pandas.core.frame.DataFrame'>\n",
      "RangeIndex: 200000 entries, 0 to 199999\n",
      "Data columns (total 15 columns):\n",
      " #   Column                 Non-Null Count   Dtype              \n",
      "---  ------                 --------------   -----              \n",
      " 0   customer_id            200000 non-null  object             \n",
      " 1   customer_email         200000 non-null  object             \n",
      " 2   age                    200000 non-null  int64              \n",
      " 3   senior_citizen         200000 non-null  bool               \n",
      " 4   partner                200000 non-null  bool               \n",
      " 5   dependents             200000 non-null  bool               \n",
      " 6   tenure_months          200000 non-null  int64              \n",
      " 7   phone_service          200000 non-null  bool               \n",
      " 8   paperless_billing      200000 non-null  bool               \n",
      " 9   monthly_charges        200000 non-null  float64            \n",
      " 10  total_charges          200000 non-null  float64            \n",
      " 11  churn                  200000 non-null  bool               \n",
      " 12  last_interaction_date  200000 non-null  datetime64[ns, UTC]\n",
      " 13  region                 200000 non-null  object             \n",
      " 14  signup_date            100000 non-null  datetime64[ns, UTC]\n",
      "dtypes: bool(6), datetime64[ns, UTC](2), float64(2), int64(2), object(3)\n",
      "memory usage: 14.9+ MB\n"
     ]
    }
   ],
   "source": [
    "data.info()"
   ]
  },
  {
   "cell_type": "code",
   "execution_count": 19,
   "id": "4f68c938-1823-4959-ba75-eefd65ddfe5e",
   "metadata": {},
   "outputs": [],
   "source": [
    "data.set_index('customer_id', inplace=True) # we can choose to make cols with all unique values as row index for better reference "
   ]
  },
  {
   "cell_type": "code",
   "execution_count": 20,
   "id": "4e61692f-7306-442e-a6fe-1e7fd31b61e2",
   "metadata": {},
   "outputs": [
    {
     "data": {
      "text/html": [
       "<div>\n",
       "<style scoped>\n",
       "    .dataframe tbody tr th:only-of-type {\n",
       "        vertical-align: middle;\n",
       "    }\n",
       "\n",
       "    .dataframe tbody tr th {\n",
       "        vertical-align: top;\n",
       "    }\n",
       "\n",
       "    .dataframe thead th {\n",
       "        text-align: right;\n",
       "    }\n",
       "</style>\n",
       "<table border=\"1\" class=\"dataframe\">\n",
       "  <thead>\n",
       "    <tr style=\"text-align: right;\">\n",
       "      <th></th>\n",
       "      <th>customer_email</th>\n",
       "      <th>age</th>\n",
       "      <th>senior_citizen</th>\n",
       "      <th>partner</th>\n",
       "      <th>dependents</th>\n",
       "      <th>tenure_months</th>\n",
       "      <th>phone_service</th>\n",
       "      <th>paperless_billing</th>\n",
       "      <th>monthly_charges</th>\n",
       "      <th>total_charges</th>\n",
       "      <th>churn</th>\n",
       "      <th>last_interaction_date</th>\n",
       "      <th>region</th>\n",
       "      <th>signup_date</th>\n",
       "    </tr>\n",
       "    <tr>\n",
       "      <th>customer_id</th>\n",
       "      <th></th>\n",
       "      <th></th>\n",
       "      <th></th>\n",
       "      <th></th>\n",
       "      <th></th>\n",
       "      <th></th>\n",
       "      <th></th>\n",
       "      <th></th>\n",
       "      <th></th>\n",
       "      <th></th>\n",
       "      <th></th>\n",
       "      <th></th>\n",
       "      <th></th>\n",
       "      <th></th>\n",
       "    </tr>\n",
       "  </thead>\n",
       "  <tbody>\n",
       "    <tr>\n",
       "      <th>ffe4eae9-5410-42bd-975c-a2dbd2b2eacf</th>\n",
       "      <td>Damion.Waelchi@yahoo.com</td>\n",
       "      <td>50</td>\n",
       "      <td>True</td>\n",
       "      <td>True</td>\n",
       "      <td>False</td>\n",
       "      <td>15</td>\n",
       "      <td>False</td>\n",
       "      <td>True</td>\n",
       "      <td>73.907340</td>\n",
       "      <td>3533.843083</td>\n",
       "      <td>False</td>\n",
       "      <td>2024-08-30 05:40:46.935000+00:00</td>\n",
       "      <td>Nevada</td>\n",
       "      <td>2024-02-06 22:09:24.306000+00:00</td>\n",
       "    </tr>\n",
       "    <tr>\n",
       "      <th>0300d5a1-9bde-4744-ba94-ca53f2fcaf98</th>\n",
       "      <td>Jovan55@gmail.com</td>\n",
       "      <td>68</td>\n",
       "      <td>False</td>\n",
       "      <td>True</td>\n",
       "      <td>True</td>\n",
       "      <td>24</td>\n",
       "      <td>False</td>\n",
       "      <td>True</td>\n",
       "      <td>126.217978</td>\n",
       "      <td>2571.352328</td>\n",
       "      <td>True</td>\n",
       "      <td>2025-01-24 07:23:07.153000+00:00</td>\n",
       "      <td>Indiana</td>\n",
       "      <td>2021-01-01 12:22:14.905000+00:00</td>\n",
       "    </tr>\n",
       "    <tr>\n",
       "      <th>699ee820-a9fb-4838-81fe-a32f5cadbe53</th>\n",
       "      <td>Alek_Wuckert30@gmail.com</td>\n",
       "      <td>29</td>\n",
       "      <td>True</td>\n",
       "      <td>True</td>\n",
       "      <td>True</td>\n",
       "      <td>47</td>\n",
       "      <td>False</td>\n",
       "      <td>False</td>\n",
       "      <td>36.914122</td>\n",
       "      <td>3511.877067</td>\n",
       "      <td>True</td>\n",
       "      <td>2025-06-19 20:13:58.204000+00:00</td>\n",
       "      <td>Virginia</td>\n",
       "      <td>NaT</td>\n",
       "    </tr>\n",
       "    <tr>\n",
       "      <th>f2183178-7203-4533-86b5-1a09a35c59f4</th>\n",
       "      <td>Raleigh_Stracke@yahoo.com</td>\n",
       "      <td>18</td>\n",
       "      <td>True</td>\n",
       "      <td>True</td>\n",
       "      <td>False</td>\n",
       "      <td>50</td>\n",
       "      <td>False</td>\n",
       "      <td>False</td>\n",
       "      <td>43.983191</td>\n",
       "      <td>843.125157</td>\n",
       "      <td>True</td>\n",
       "      <td>2024-11-10 21:18:33.695000+00:00</td>\n",
       "      <td>Kansas</td>\n",
       "      <td>NaT</td>\n",
       "    </tr>\n",
       "  </tbody>\n",
       "</table>\n",
       "</div>"
      ],
      "text/plain": [
       "                                                 customer_email  age  \\\n",
       "customer_id                                                            \n",
       "ffe4eae9-5410-42bd-975c-a2dbd2b2eacf   Damion.Waelchi@yahoo.com   50   \n",
       "0300d5a1-9bde-4744-ba94-ca53f2fcaf98          Jovan55@gmail.com   68   \n",
       "699ee820-a9fb-4838-81fe-a32f5cadbe53   Alek_Wuckert30@gmail.com   29   \n",
       "f2183178-7203-4533-86b5-1a09a35c59f4  Raleigh_Stracke@yahoo.com   18   \n",
       "\n",
       "                                      senior_citizen  partner  dependents  \\\n",
       "customer_id                                                                 \n",
       "ffe4eae9-5410-42bd-975c-a2dbd2b2eacf            True     True       False   \n",
       "0300d5a1-9bde-4744-ba94-ca53f2fcaf98           False     True        True   \n",
       "699ee820-a9fb-4838-81fe-a32f5cadbe53            True     True        True   \n",
       "f2183178-7203-4533-86b5-1a09a35c59f4            True     True       False   \n",
       "\n",
       "                                      tenure_months  phone_service  \\\n",
       "customer_id                                                          \n",
       "ffe4eae9-5410-42bd-975c-a2dbd2b2eacf             15          False   \n",
       "0300d5a1-9bde-4744-ba94-ca53f2fcaf98             24          False   \n",
       "699ee820-a9fb-4838-81fe-a32f5cadbe53             47          False   \n",
       "f2183178-7203-4533-86b5-1a09a35c59f4             50          False   \n",
       "\n",
       "                                      paperless_billing  monthly_charges  \\\n",
       "customer_id                                                                \n",
       "ffe4eae9-5410-42bd-975c-a2dbd2b2eacf               True        73.907340   \n",
       "0300d5a1-9bde-4744-ba94-ca53f2fcaf98               True       126.217978   \n",
       "699ee820-a9fb-4838-81fe-a32f5cadbe53              False        36.914122   \n",
       "f2183178-7203-4533-86b5-1a09a35c59f4              False        43.983191   \n",
       "\n",
       "                                      total_charges  churn  \\\n",
       "customer_id                                                  \n",
       "ffe4eae9-5410-42bd-975c-a2dbd2b2eacf    3533.843083  False   \n",
       "0300d5a1-9bde-4744-ba94-ca53f2fcaf98    2571.352328   True   \n",
       "699ee820-a9fb-4838-81fe-a32f5cadbe53    3511.877067   True   \n",
       "f2183178-7203-4533-86b5-1a09a35c59f4     843.125157   True   \n",
       "\n",
       "                                                last_interaction_date  \\\n",
       "customer_id                                                             \n",
       "ffe4eae9-5410-42bd-975c-a2dbd2b2eacf 2024-08-30 05:40:46.935000+00:00   \n",
       "0300d5a1-9bde-4744-ba94-ca53f2fcaf98 2025-01-24 07:23:07.153000+00:00   \n",
       "699ee820-a9fb-4838-81fe-a32f5cadbe53 2025-06-19 20:13:58.204000+00:00   \n",
       "f2183178-7203-4533-86b5-1a09a35c59f4 2024-11-10 21:18:33.695000+00:00   \n",
       "\n",
       "                                        region  \\\n",
       "customer_id                                      \n",
       "ffe4eae9-5410-42bd-975c-a2dbd2b2eacf    Nevada   \n",
       "0300d5a1-9bde-4744-ba94-ca53f2fcaf98   Indiana   \n",
       "699ee820-a9fb-4838-81fe-a32f5cadbe53  Virginia   \n",
       "f2183178-7203-4533-86b5-1a09a35c59f4    Kansas   \n",
       "\n",
       "                                                          signup_date  \n",
       "customer_id                                                            \n",
       "ffe4eae9-5410-42bd-975c-a2dbd2b2eacf 2024-02-06 22:09:24.306000+00:00  \n",
       "0300d5a1-9bde-4744-ba94-ca53f2fcaf98 2021-01-01 12:22:14.905000+00:00  \n",
       "699ee820-a9fb-4838-81fe-a32f5cadbe53                              NaT  \n",
       "f2183178-7203-4533-86b5-1a09a35c59f4                              NaT  "
      ]
     },
     "execution_count": 20,
     "metadata": {},
     "output_type": "execute_result"
    }
   ],
   "source": [
    "data.sample(4)"
   ]
  },
  {
   "cell_type": "code",
   "execution_count": 21,
   "id": "394d3d57-488c-41b5-b5e6-ed9a69454887",
   "metadata": {},
   "outputs": [
    {
     "name": "stdout",
     "output_type": "stream",
     "text": [
      "(200000, 14)\n"
     ]
    }
   ],
   "source": [
    "# since email is  a PII (Personal Information Identifier) it should never be used as a machine learning feature\n",
    "# since there is no logic to replace/fill the missing values for signup_date, we would drop the column\n",
    "print(data.shape)\n",
    "data.drop(['customer_email', 'signup_date'], axis=1, inplace=True)"
   ]
  },
  {
   "cell_type": "code",
   "execution_count": 22,
   "id": "3dbce622-40e9-4a73-a8f8-90961c527340",
   "metadata": {},
   "outputs": [
    {
     "name": "stdout",
     "output_type": "stream",
     "text": [
      "(200000, 12)\n"
     ]
    },
    {
     "data": {
      "text/html": [
       "<div>\n",
       "<style scoped>\n",
       "    .dataframe tbody tr th:only-of-type {\n",
       "        vertical-align: middle;\n",
       "    }\n",
       "\n",
       "    .dataframe tbody tr th {\n",
       "        vertical-align: top;\n",
       "    }\n",
       "\n",
       "    .dataframe thead th {\n",
       "        text-align: right;\n",
       "    }\n",
       "</style>\n",
       "<table border=\"1\" class=\"dataframe\">\n",
       "  <thead>\n",
       "    <tr style=\"text-align: right;\">\n",
       "      <th></th>\n",
       "      <th>age</th>\n",
       "      <th>senior_citizen</th>\n",
       "      <th>partner</th>\n",
       "      <th>dependents</th>\n",
       "      <th>tenure_months</th>\n",
       "      <th>phone_service</th>\n",
       "      <th>paperless_billing</th>\n",
       "      <th>monthly_charges</th>\n",
       "      <th>total_charges</th>\n",
       "      <th>churn</th>\n",
       "      <th>last_interaction_date</th>\n",
       "      <th>region</th>\n",
       "    </tr>\n",
       "    <tr>\n",
       "      <th>customer_id</th>\n",
       "      <th></th>\n",
       "      <th></th>\n",
       "      <th></th>\n",
       "      <th></th>\n",
       "      <th></th>\n",
       "      <th></th>\n",
       "      <th></th>\n",
       "      <th></th>\n",
       "      <th></th>\n",
       "      <th></th>\n",
       "      <th></th>\n",
       "      <th></th>\n",
       "    </tr>\n",
       "  </thead>\n",
       "  <tbody>\n",
       "    <tr>\n",
       "      <th>3a00cf1c-bcfa-475f-b7e0-61372fba22e5</th>\n",
       "      <td>67</td>\n",
       "      <td>True</td>\n",
       "      <td>True</td>\n",
       "      <td>True</td>\n",
       "      <td>16</td>\n",
       "      <td>False</td>\n",
       "      <td>False</td>\n",
       "      <td>44.415328</td>\n",
       "      <td>5558.882604</td>\n",
       "      <td>True</td>\n",
       "      <td>2024-10-01 18:32:16.234000+00:00</td>\n",
       "      <td>Mississippi</td>\n",
       "    </tr>\n",
       "    <tr>\n",
       "      <th>ac6fbf23-2b49-4ec1-9408-580ee1d08767</th>\n",
       "      <td>61</td>\n",
       "      <td>True</td>\n",
       "      <td>False</td>\n",
       "      <td>True</td>\n",
       "      <td>13</td>\n",
       "      <td>False</td>\n",
       "      <td>False</td>\n",
       "      <td>111.594316</td>\n",
       "      <td>5100.171176</td>\n",
       "      <td>True</td>\n",
       "      <td>2025-04-15 02:30:02.715000+00:00</td>\n",
       "      <td>New Mexico</td>\n",
       "    </tr>\n",
       "    <tr>\n",
       "      <th>2aa4b7ce-554b-4e1e-9078-71be4fc0ac50</th>\n",
       "      <td>33</td>\n",
       "      <td>True</td>\n",
       "      <td>True</td>\n",
       "      <td>False</td>\n",
       "      <td>21</td>\n",
       "      <td>True</td>\n",
       "      <td>True</td>\n",
       "      <td>88.389173</td>\n",
       "      <td>7788.417836</td>\n",
       "      <td>False</td>\n",
       "      <td>2025-03-13 02:24:14.052000+00:00</td>\n",
       "      <td>Wisconsin</td>\n",
       "    </tr>\n",
       "  </tbody>\n",
       "</table>\n",
       "</div>"
      ],
      "text/plain": [
       "                                      age  senior_citizen  partner  \\\n",
       "customer_id                                                          \n",
       "3a00cf1c-bcfa-475f-b7e0-61372fba22e5   67            True     True   \n",
       "ac6fbf23-2b49-4ec1-9408-580ee1d08767   61            True    False   \n",
       "2aa4b7ce-554b-4e1e-9078-71be4fc0ac50   33            True     True   \n",
       "\n",
       "                                      dependents  tenure_months  \\\n",
       "customer_id                                                       \n",
       "3a00cf1c-bcfa-475f-b7e0-61372fba22e5        True             16   \n",
       "ac6fbf23-2b49-4ec1-9408-580ee1d08767        True             13   \n",
       "2aa4b7ce-554b-4e1e-9078-71be4fc0ac50       False             21   \n",
       "\n",
       "                                      phone_service  paperless_billing  \\\n",
       "customer_id                                                              \n",
       "3a00cf1c-bcfa-475f-b7e0-61372fba22e5          False              False   \n",
       "ac6fbf23-2b49-4ec1-9408-580ee1d08767          False              False   \n",
       "2aa4b7ce-554b-4e1e-9078-71be4fc0ac50           True               True   \n",
       "\n",
       "                                      monthly_charges  total_charges  churn  \\\n",
       "customer_id                                                                   \n",
       "3a00cf1c-bcfa-475f-b7e0-61372fba22e5        44.415328    5558.882604   True   \n",
       "ac6fbf23-2b49-4ec1-9408-580ee1d08767       111.594316    5100.171176   True   \n",
       "2aa4b7ce-554b-4e1e-9078-71be4fc0ac50        88.389173    7788.417836  False   \n",
       "\n",
       "                                                last_interaction_date  \\\n",
       "customer_id                                                             \n",
       "3a00cf1c-bcfa-475f-b7e0-61372fba22e5 2024-10-01 18:32:16.234000+00:00   \n",
       "ac6fbf23-2b49-4ec1-9408-580ee1d08767 2025-04-15 02:30:02.715000+00:00   \n",
       "2aa4b7ce-554b-4e1e-9078-71be4fc0ac50 2025-03-13 02:24:14.052000+00:00   \n",
       "\n",
       "                                           region  \n",
       "customer_id                                        \n",
       "3a00cf1c-bcfa-475f-b7e0-61372fba22e5  Mississippi  \n",
       "ac6fbf23-2b49-4ec1-9408-580ee1d08767   New Mexico  \n",
       "2aa4b7ce-554b-4e1e-9078-71be4fc0ac50    Wisconsin  "
      ]
     },
     "execution_count": 22,
     "metadata": {},
     "output_type": "execute_result"
    }
   ],
   "source": [
    "print(data.shape)\n",
    "data.sample(3)"
   ]
  },
  {
   "cell_type": "code",
   "execution_count": 23,
   "id": "7d795067-70f4-4224-92cf-ba3df6ce9b94",
   "metadata": {},
   "outputs": [],
   "source": [
    "# RFM modeling --> Recency (How recent), Frequency (How frequent), Monitory (How much pay)\n",
    "# here in the data: last_interaction_date is Recency, tenure_months is Frequency and total_charges is Monitory"
   ]
  },
  {
   "cell_type": "markdown",
   "id": "ba79da65-d552-44fd-bee6-7ffa3a694d23",
   "metadata": {},
   "source": [
    "## Exploratory Data Analysis (EDA)\n",
    "Now that the data is clean and prepared, let's perform some exploratory analysis to understand the data better and to gather insights about what factors might affect churn.\n",
    "We will look at the distribution of variables and relationships between features and the churn outcome."
   ]
  },
  {
   "cell_type": "markdown",
   "id": "41beff1d-0cd5-4766-99f2-e393293668fe",
   "metadata": {},
   "source": [
    "### Task 10: Examine the distribution of the target variable (Churn)\n",
    "\n",
    "Let's see how many customers in our dataset churned vs. stayed. Plot a count of churned vs non-churned customers. This can be done using a bar plot (or simply checking the value counts). This will tell us the balance of our classes (churn vs no churn)."
   ]
  },
  {
   "cell_type": "code",
   "execution_count": 24,
   "id": "4cfe53a4-4c63-49bc-9e01-09a44eca30af",
   "metadata": {},
   "outputs": [
    {
     "data": {
      "text/plain": [
       "<Axes: xlabel='churn'>"
      ]
     },
     "execution_count": 24,
     "metadata": {},
     "output_type": "execute_result"
    },
    {
     "data": {
      "image/png": "[encoded data removed]",
      "text/plain": [
       "<Figure size 640x480 with 1 Axes>"
      ]
     },
     "metadata": {},
     "output_type": "display_data"
    }
   ],
   "source": [
    "data.churn.value_counts().plot(kind='bar') # We have a balanced data set with 50:50 rows for both calsses"
   ]
  },
  {
   "cell_type": "markdown",
   "id": "4df0281d-6af3-455c-bdcf-529665189202",
   "metadata": {},
   "source": [
    "### Task 11: Distribution of customer ages\n",
    "Plot a histogram of the age of customers. This will show the distribution of customer ages. Are most customers in a certain age range? This might help identify if our customer\n",
    "base is younger or older on average."
   ]
  },
  {
   "cell_type": "code",
   "execution_count": 25,
   "id": "4ce9a6f2-93cf-44ec-91ad-76fb6d5fe15a",
   "metadata": {},
   "outputs": [
    {
     "data": {
      "image/png": "[encoded data removed]",
      "text/plain": [
       "<Figure size 640x480 with 1 Axes>"
      ]
     },
     "metadata": {},
     "output_type": "display_data"
    }
   ],
   "source": [
    "data.age.hist(bins=20) # The age distribution seems to be uniformly distributed\n",
    "plt.show()"
   ]
  },
  {
   "cell_type": "code",
   "execution_count": 26,
   "id": "e9324719-ce85-4ebb-be17-8100362e8116",
   "metadata": {},
   "outputs": [
    {
     "data": {
      "text/plain": [
       "<Axes: >"
      ]
     },
     "execution_count": 26,
     "metadata": {},
     "output_type": "execute_result"
    },
    {
     "data": {
      "image/png": "[encoded data removed]",
      "text/plain": [
       "<Figure size 640x480 with 1 Axes>"
      ]
     },
     "metadata": {},
     "output_type": "display_data"
    }
   ],
   "source": [
    "data.boxplot('age')"
   ]
  },
  {
   "cell_type": "code",
   "execution_count": 27,
   "id": "3020adc1-6039-4e8f-8d22-5b9c977724de",
   "metadata": {},
   "outputs": [
    {
     "data": {
      "text/plain": [
       "count    200000.000000\n",
       "mean         54.031670\n",
       "std          21.048897\n",
       "min          18.000000\n",
       "25%          36.000000\n",
       "50%          54.000000\n",
       "75%          72.000000\n",
       "max          90.000000\n",
       "Name: age, dtype: float64"
      ]
     },
     "execution_count": 27,
     "metadata": {},
     "output_type": "execute_result"
    }
   ],
   "source": [
    "data.age.describe()"
   ]
  },
  {
   "cell_type": "markdown",
   "id": "440710a5-121c-4a24-a6e5-7fa3a59c0c66",
   "metadata": {},
   "source": [
    "### Task 12: Distribution of customer tenure\n",
    "Plot a histogram of the tenure_months to see how long customers tend to stay with the company. Is there a large number of new customers (low tenure) in the data? Do we see many customers at the maximum tenure (72 months, if that's the max)? Understanding tenure distribution will help in analyzing churn by tenure later."
   ]
  },
  {
   "cell_type": "code",
   "execution_count": 28,
   "id": "de69c96a-c488-4aef-9262-a9c1e94e102b",
   "metadata": {},
   "outputs": [
    {
     "data": {
      "image/png": "[encoded data removed]",
      "text/plain": [
       "<Figure size 640x480 with 1 Axes>"
      ]
     },
     "metadata": {},
     "output_type": "display_data"
    }
   ],
   "source": [
    "sns.histplot(data.tenure_months)\n",
    "plt.show()"
   ]
  },
  {
   "cell_type": "code",
   "execution_count": 29,
   "id": "197335d0-2982-49ed-8d37-101da6776c2d",
   "metadata": {},
   "outputs": [
    {
     "data": {
      "image/png": "[encoded data removed]",
      "text/plain": [
       "<Figure size 640x480 with 1 Axes>"
      ]
     },
     "metadata": {},
     "output_type": "display_data"
    }
   ],
   "source": [
    "data.boxplot('tenure_months')\n",
    "plt.show()"
   ]
  },
  {
   "cell_type": "code",
   "execution_count": 30,
   "id": "e5dcdce4-560c-41b9-a672-0fda985eebb7",
   "metadata": {},
   "outputs": [
    {
     "data": {
      "text/plain": [
       "count    200000.000000\n",
       "mean         35.976150\n",
       "std          21.053301\n",
       "min           0.000000\n",
       "25%          18.000000\n",
       "50%          36.000000\n",
       "75%          54.000000\n",
       "max          72.000000\n",
       "Name: tenure_months, dtype: float64"
      ]
     },
     "execution_count": 30,
     "metadata": {},
     "output_type": "execute_result"
    }
   ],
   "source": [
    "data.tenure_months.describe()"
   ]
  },
  {
   "cell_type": "code",
   "execution_count": 31,
   "id": "b3fad4a9-1136-4f0c-9342-a884f96a6ef2",
   "metadata": {},
   "outputs": [
    {
     "data": {
      "text/plain": [
       "tenure_months\n",
       "36    2848\n",
       "15    2847\n",
       "46    2827\n",
       "47    2825\n",
       "39    2824\n",
       "      ... \n",
       "59    2663\n",
       "27    2662\n",
       "6     2653\n",
       "49    2636\n",
       "8     2627\n",
       "Name: count, Length: 73, dtype: int64"
      ]
     },
     "execution_count": 31,
     "metadata": {},
     "output_type": "execute_result"
    }
   ],
   "source": [
    "data.tenure_months.value_counts()"
   ]
  },
  {
   "cell_type": "markdown",
   "id": "e2773204-accb-48d5-bd7c-3901353c7302",
   "metadata": {},
   "source": [
    "- `Analysis: we can see customers who have spent time over the full range. Uniform distribution`\n",
    "- `incase of uneven dist we can transform the variable into categories like new, <3M, <6M, <1Y, <2Y..`"
   ]
  },
  {
   "cell_type": "markdown",
   "id": "a001c3d5-c3b8-4325-973f-329faf542b67",
   "metadata": {},
   "source": [
    "### Task 13: Distribution of monthly charges\n",
    "Plot a histogram of the monthly_charges. This shows the distribution of monthly billing amounts. We can see the range of charges and if it's skewed (e.g., many customers at lower tiers vs higher tiers). Sometimes, very high or very low charges could influence churn."
   ]
  },
  {
   "cell_type": "code",
   "execution_count": 32,
   "id": "1cfaf4bb-3170-45bd-bc3b-6d87b7a68457",
   "metadata": {},
   "outputs": [
    {
     "data": {
      "image/png": "[encoded data removed]",
      "text/plain": [
       "<Figure size 640x480 with 1 Axes>"
      ]
     },
     "metadata": {},
     "output_type": "display_data"
    }
   ],
   "source": [
    "sns.histplot(data.monthly_charges, bins=30) \n",
    "plt.show()"
   ]
  },
  {
   "cell_type": "markdown",
   "id": "25a2ae41-7eac-404e-8c7b-3b6131a0e347",
   "metadata": {},
   "source": [
    "`Analysis: comparively the high paying customers are less in number`"
   ]
  },
  {
   "cell_type": "code",
   "execution_count": 33,
   "id": "a1bf08ea-8383-446a-90b6-9763f18bceae",
   "metadata": {},
   "outputs": [
    {
     "data": {
      "text/plain": [
       "<Axes: ylabel='Density'>"
      ]
     },
     "execution_count": 33,
     "metadata": {},
     "output_type": "execute_result"
    },
    {
     "data": {
      "image/png": "[encoded data removed]",
      "text/plain": [
       "<Figure size 640x480 with 1 Axes>"
      ]
     },
     "metadata": {},
     "output_type": "display_data"
    }
   ],
   "source": [
    "data.monthly_charges.plot(kind='kde')"
   ]
  },
  {
   "cell_type": "code",
   "execution_count": 34,
   "id": "8e87ac49-6662-4036-8806-6b3164d9bf10",
   "metadata": {},
   "outputs": [
    {
     "data": {
      "image/png": "[encoded data removed]",
      "text/plain": [
       "<Figure size 640x480 with 1 Axes>"
      ]
     },
     "metadata": {},
     "output_type": "display_data"
    }
   ],
   "source": [
    "sns.boxplot(data.monthly_charges)\n",
    "plt.show()"
   ]
  },
  {
   "cell_type": "code",
   "execution_count": 35,
   "id": "aa167acf-e5d0-493c-80a6-c4e542b99680",
   "metadata": {},
   "outputs": [
    {
     "data": {
      "text/plain": [
       "count    200000.000000\n",
       "mean         76.618568\n",
       "std          34.891140\n",
       "min          18.000333\n",
       "25%          46.902328\n",
       "50%          75.754153\n",
       "75%         104.441355\n",
       "max         149.998856\n",
       "Name: monthly_charges, dtype: float64"
      ]
     },
     "execution_count": 35,
     "metadata": {},
     "output_type": "execute_result"
    }
   ],
   "source": [
    "data.monthly_charges.describe()\n",
    "# for floating variables value counts is not of much use for analysis"
   ]
  },
  {
   "cell_type": "markdown",
   "id": "a09d25ca-907d-4390-aaa6-17ced2becd83",
   "metadata": {},
   "source": [
    "### Task 14: Churn rate by senior citizen status\n",
    "- Question: Are senior citizens more likely to churn compared to non-senior customers? Calculate the churn rate for senior citizens vs non-senior citizens. Churn rate can be defined as the percentage of customers in that group who have churned.\n",
    "- You can do this by grouping the data by senior_citizen and calculating the mean of the churn column (if churn is encoded as 0/1, the mean gives the proportion that churned).\n",
    "Alternatively, use value_counts of churn within each group."
   ]
  },
  {
   "cell_type": "code",
   "execution_count": 36,
   "id": "4b5d764e-6f5c-487f-ad6e-bfcf09c48820",
   "metadata": {},
   "outputs": [
    {
     "data": {
      "text/plain": [
       "senior_citizen\n",
       "False    0.501411\n",
       "True     0.498721\n",
       "Name: churn, dtype: float64"
      ]
     },
     "execution_count": 36,
     "metadata": {},
     "output_type": "execute_result"
    }
   ],
   "source": [
    "data.groupby('senior_citizen')['churn'].mean()"
   ]
  },
  {
   "cell_type": "markdown",
   "id": "07bf8f4f-9a25-4b21-b83e-0203f169a832",
   "metadata": {},
   "source": [
    "### Task 15: Churn rate by partner status\n",
    "Question: Does having a partner influence churn? Compute the churn rate for customers with a partner vs without a partner. Similar to above, group by partner and find the proportion that churned in each group."
   ]
  },
  {
   "cell_type": "code",
   "execution_count": 37,
   "id": "8808fd8c-c2f7-4681-b422-1977532536cc",
   "metadata": {},
   "outputs": [
    {
     "data": {
      "text/plain": [
       "<Axes: xlabel='partner'>"
      ]
     },
     "execution_count": 37,
     "metadata": {},
     "output_type": "execute_result"
    },
    {
     "data": {
      "image/png": "[encoded data removed]",
      "text/plain": [
       "<Figure size 640x480 with 1 Axes>"
      ]
     },
     "metadata": {},
     "output_type": "display_data"
    }
   ],
   "source": [
    "data.groupby('partner')['churn'].mean().plot(kind='bar')"
   ]
  },
  {
   "cell_type": "markdown",
   "id": "9ebf9f4f-4097-49ea-8823-90dc137a2e5f",
   "metadata": {},
   "source": [
    "### Task 16: Average tenure of churned vs non-churned customers\n",
    "Question: Do customers who churn tend to have shorter tenures? Calculate the average tenure (in months) for churned customers vs customers who stayed. This can be done\n",
    "by grouping by churn status."
   ]
  },
  {
   "cell_type": "code",
   "execution_count": 38,
   "id": "c7462bde-f753-4491-a678-a32b47a280fa",
   "metadata": {},
   "outputs": [
    {
     "data": {
      "text/plain": [
       "<Axes: ylabel='tenure_months'>"
      ]
     },
     "execution_count": 38,
     "metadata": {},
     "output_type": "execute_result"
    },
    {
     "data": {
      "image/png": "[encoded data removed]",
      "text/plain": [
       "<Figure size 640x480 with 1 Axes>"
      ]
     },
     "metadata": {},
     "output_type": "display_data"
    }
   ],
   "source": [
    "data.groupby('churn')['tenure_months'].mean().plot(kind='pie')"
   ]
  },
  {
   "cell_type": "markdown",
   "id": "e88ca1cd-bd69-424b-9dc9-4a6c3edd0c54",
   "metadata": {},
   "source": [
    "### Task 17: Average monthly charges of churned vs non-churned customers\n",
    "Question: Do customers who churn pay more per month? Find the average monthly_charges for churned vs non-churned groups."
   ]
  },
  {
   "cell_type": "code",
   "execution_count": 39,
   "id": "9d0573c5-3de9-4149-8637-694247cae927",
   "metadata": {},
   "outputs": [
    {
     "data": {
      "text/plain": [
       "churn\n",
       "False    76.601562\n",
       "True     76.635570\n",
       "Name: monthly_charges, dtype: float64"
      ]
     },
     "execution_count": 39,
     "metadata": {},
     "output_type": "execute_result"
    }
   ],
   "source": [
    "data.groupby('churn')['monthly_charges'].mean()"
   ]
  },
  {
   "cell_type": "markdown",
   "id": "501e40ff-c743-4254-919d-c1d4a785b36b",
   "metadata": {},
   "source": [
    "### Task 18: Average total charges of churned vs non-churned customers\n",
    "Question: How do the total charges differ between churned and retained customers? Calculate the average total_charges for churned vs non-churned customers. (Since\n",
    "total_charges is a function of monthly charges and tenure, this will reflect both how long and how much a churned customer contributed versus a stayed customer.)"
   ]
  },
  {
   "cell_type": "code",
   "execution_count": 40,
   "id": "b95a25e5-7600-4edf-ad78-46537f5108f1",
   "metadata": {},
   "outputs": [
    {
     "data": {
      "text/plain": [
       "churn\n",
       "False    4005.750196\n",
       "True     4006.677245\n",
       "Name: total_charges, dtype: float64"
      ]
     },
     "execution_count": 40,
     "metadata": {},
     "output_type": "execute_result"
    }
   ],
   "source": [
    "data.groupby('churn')['total_charges'].mean()"
   ]
  },
  {
   "cell_type": "markdown",
   "id": "ee730247-540c-4e89-aace-098c8da38cfc",
   "metadata": {},
   "source": [
    "### Task 19: Correlation analysis\n",
    "Calculate the correlation matrix for the numeric features (and the churn indicator, encoded as 0/1). This will show how strongly features are linearly related to each other and to churn. In particular, look at correlations involving churn. Are any features strongly positively or negatively correlated with churn? Also note if any pair of features are highly correlated with each other (for instance, tenure and total_charges might be strongly correlated since longer tenure usually means more total charges)."
   ]
  },
  {
   "cell_type": "code",
   "execution_count": 41,
   "id": "ca1cfe69-a711-4baa-9ab2-e9ce17ff5dd1",
   "metadata": {},
   "outputs": [
    {
     "data": {
      "text/html": [
       "<div>\n",
       "<style scoped>\n",
       "    .dataframe tbody tr th:only-of-type {\n",
       "        vertical-align: middle;\n",
       "    }\n",
       "\n",
       "    .dataframe tbody tr th {\n",
       "        vertical-align: top;\n",
       "    }\n",
       "\n",
       "    .dataframe thead th {\n",
       "        text-align: right;\n",
       "    }\n",
       "</style>\n",
       "<table border=\"1\" class=\"dataframe\">\n",
       "  <thead>\n",
       "    <tr style=\"text-align: right;\">\n",
       "      <th></th>\n",
       "      <th>age</th>\n",
       "      <th>senior_citizen</th>\n",
       "      <th>partner</th>\n",
       "      <th>dependents</th>\n",
       "      <th>tenure_months</th>\n",
       "      <th>phone_service</th>\n",
       "      <th>paperless_billing</th>\n",
       "      <th>monthly_charges</th>\n",
       "      <th>total_charges</th>\n",
       "      <th>churn</th>\n",
       "    </tr>\n",
       "  </thead>\n",
       "  <tbody>\n",
       "    <tr>\n",
       "      <th>age</th>\n",
       "      <td>1.000000</td>\n",
       "      <td>-0.000988</td>\n",
       "      <td>0.000091</td>\n",
       "      <td>-0.000956</td>\n",
       "      <td>-0.001786</td>\n",
       "      <td>-0.001610</td>\n",
       "      <td>0.002026</td>\n",
       "      <td>0.004099</td>\n",
       "      <td>0.001627</td>\n",
       "      <td>-0.000026</td>\n",
       "    </tr>\n",
       "    <tr>\n",
       "      <th>senior_citizen</th>\n",
       "      <td>-0.000988</td>\n",
       "      <td>1.000000</td>\n",
       "      <td>-0.001990</td>\n",
       "      <td>-0.002299</td>\n",
       "      <td>-0.000142</td>\n",
       "      <td>-0.003850</td>\n",
       "      <td>0.003729</td>\n",
       "      <td>-0.001353</td>\n",
       "      <td>-0.002232</td>\n",
       "      <td>-0.002690</td>\n",
       "    </tr>\n",
       "    <tr>\n",
       "      <th>partner</th>\n",
       "      <td>0.000091</td>\n",
       "      <td>-0.001990</td>\n",
       "      <td>1.000000</td>\n",
       "      <td>-0.004810</td>\n",
       "      <td>-0.000347</td>\n",
       "      <td>0.001640</td>\n",
       "      <td>0.001040</td>\n",
       "      <td>-0.002987</td>\n",
       "      <td>0.004753</td>\n",
       "      <td>-0.004760</td>\n",
       "    </tr>\n",
       "    <tr>\n",
       "      <th>dependents</th>\n",
       "      <td>-0.000956</td>\n",
       "      <td>-0.002299</td>\n",
       "      <td>-0.004810</td>\n",
       "      <td>1.000000</td>\n",
       "      <td>-0.000445</td>\n",
       "      <td>-0.000411</td>\n",
       "      <td>0.002992</td>\n",
       "      <td>-0.000863</td>\n",
       "      <td>0.000091</td>\n",
       "      <td>0.003170</td>\n",
       "    </tr>\n",
       "    <tr>\n",
       "      <th>tenure_months</th>\n",
       "      <td>-0.001786</td>\n",
       "      <td>-0.000142</td>\n",
       "      <td>-0.000347</td>\n",
       "      <td>-0.000445</td>\n",
       "      <td>1.000000</td>\n",
       "      <td>0.001462</td>\n",
       "      <td>-0.000562</td>\n",
       "      <td>0.003022</td>\n",
       "      <td>0.000821</td>\n",
       "      <td>0.003620</td>\n",
       "    </tr>\n",
       "    <tr>\n",
       "      <th>phone_service</th>\n",
       "      <td>-0.001610</td>\n",
       "      <td>-0.003850</td>\n",
       "      <td>0.001640</td>\n",
       "      <td>-0.000411</td>\n",
       "      <td>0.001462</td>\n",
       "      <td>1.000000</td>\n",
       "      <td>0.003581</td>\n",
       "      <td>-0.002515</td>\n",
       "      <td>-0.000288</td>\n",
       "      <td>-0.001320</td>\n",
       "    </tr>\n",
       "    <tr>\n",
       "      <th>paperless_billing</th>\n",
       "      <td>0.002026</td>\n",
       "      <td>0.003729</td>\n",
       "      <td>0.001040</td>\n",
       "      <td>0.002992</td>\n",
       "      <td>-0.000562</td>\n",
       "      <td>0.003581</td>\n",
       "      <td>1.000000</td>\n",
       "      <td>0.000539</td>\n",
       "      <td>0.001884</td>\n",
       "      <td>0.001500</td>\n",
       "    </tr>\n",
       "    <tr>\n",
       "      <th>monthly_charges</th>\n",
       "      <td>0.004099</td>\n",
       "      <td>-0.001353</td>\n",
       "      <td>-0.002987</td>\n",
       "      <td>-0.000863</td>\n",
       "      <td>0.003022</td>\n",
       "      <td>-0.002515</td>\n",
       "      <td>0.000539</td>\n",
       "      <td>1.000000</td>\n",
       "      <td>0.003315</td>\n",
       "      <td>0.000487</td>\n",
       "    </tr>\n",
       "    <tr>\n",
       "      <th>total_charges</th>\n",
       "      <td>0.001627</td>\n",
       "      <td>-0.002232</td>\n",
       "      <td>0.004753</td>\n",
       "      <td>0.000091</td>\n",
       "      <td>0.000821</td>\n",
       "      <td>-0.000288</td>\n",
       "      <td>0.001884</td>\n",
       "      <td>0.003315</td>\n",
       "      <td>1.000000</td>\n",
       "      <td>0.000201</td>\n",
       "    </tr>\n",
       "    <tr>\n",
       "      <th>churn</th>\n",
       "      <td>-0.000026</td>\n",
       "      <td>-0.002690</td>\n",
       "      <td>-0.004760</td>\n",
       "      <td>0.003170</td>\n",
       "      <td>0.003620</td>\n",
       "      <td>-0.001320</td>\n",
       "      <td>0.001500</td>\n",
       "      <td>0.000487</td>\n",
       "      <td>0.000201</td>\n",
       "      <td>1.000000</td>\n",
       "    </tr>\n",
       "  </tbody>\n",
       "</table>\n",
       "</div>"
      ],
      "text/plain": [
       "                        age  senior_citizen   partner  dependents  \\\n",
       "age                1.000000       -0.000988  0.000091   -0.000956   \n",
       "senior_citizen    -0.000988        1.000000 -0.001990   -0.002299   \n",
       "partner            0.000091       -0.001990  1.000000   -0.004810   \n",
       "dependents        -0.000956       -0.002299 -0.004810    1.000000   \n",
       "tenure_months     -0.001786       -0.000142 -0.000347   -0.000445   \n",
       "phone_service     -0.001610       -0.003850  0.001640   -0.000411   \n",
       "paperless_billing  0.002026        0.003729  0.001040    0.002992   \n",
       "monthly_charges    0.004099       -0.001353 -0.002987   -0.000863   \n",
       "total_charges      0.001627       -0.002232  0.004753    0.000091   \n",
       "churn             -0.000026       -0.002690 -0.004760    0.003170   \n",
       "\n",
       "                   tenure_months  phone_service  paperless_billing  \\\n",
       "age                    -0.001786      -0.001610           0.002026   \n",
       "senior_citizen         -0.000142      -0.003850           0.003729   \n",
       "partner                -0.000347       0.001640           0.001040   \n",
       "dependents             -0.000445      -0.000411           0.002992   \n",
       "tenure_months           1.000000       0.001462          -0.000562   \n",
       "phone_service           0.001462       1.000000           0.003581   \n",
       "paperless_billing      -0.000562       0.003581           1.000000   \n",
       "monthly_charges         0.003022      -0.002515           0.000539   \n",
       "total_charges           0.000821      -0.000288           0.001884   \n",
       "churn                   0.003620      -0.001320           0.001500   \n",
       "\n",
       "                   monthly_charges  total_charges     churn  \n",
       "age                       0.004099       0.001627 -0.000026  \n",
       "senior_citizen           -0.001353      -0.002232 -0.002690  \n",
       "partner                  -0.002987       0.004753 -0.004760  \n",
       "dependents               -0.000863       0.000091  0.003170  \n",
       "tenure_months             0.003022       0.000821  0.003620  \n",
       "phone_service            -0.002515      -0.000288 -0.001320  \n",
       "paperless_billing         0.000539       0.001884  0.001500  \n",
       "monthly_charges           1.000000       0.003315  0.000487  \n",
       "total_charges             0.003315       1.000000  0.000201  \n",
       "churn                     0.000487       0.000201  1.000000  "
      ]
     },
     "execution_count": 41,
     "metadata": {},
     "output_type": "execute_result"
    }
   ],
   "source": [
    "corr=data.corr(numeric_only=True)\n",
    "corr"
   ]
  },
  {
   "cell_type": "code",
   "execution_count": 42,
   "id": "49dde800-fc58-4731-9108-deb684872892",
   "metadata": {},
   "outputs": [
    {
     "data": {
      "text/plain": [
       "<Axes: >"
      ]
     },
     "execution_count": 42,
     "metadata": {},
     "output_type": "execute_result"
    },
    {
     "data": {
      "image/png": "[encoded data removed]",
      "text/plain": [
       "<Figure size 1500x800 with 2 Axes>"
      ]
     },
     "metadata": {},
     "output_type": "display_data"
    }
   ],
   "source": [
    "plt.figure(figsize=(15,8))\n",
    "sns.heatmap(corr, annot=True, cmap='Greens', center=0, fmt=\".3f\")\n",
    "# Analysis: Sicne none of the feature are highly correlated to any other feature, we do not need to drop any features\n",
    "# If x features a highly correlated, then keep 1 of them and drop X-1, e.g. if 7 features are highly correlated then keep ANY 1 and drop the rest."
   ]
  },
  {
   "cell_type": "markdown",
   "id": "41ab1bd0-3fd4-45d7-a02e-4cb0674c0c19",
   "metadata": {},
   "source": [
    "## Outlier Detection and Treatment\n",
    "- Outliers are extreme values that deviate significantly from the rest of the data. They can affect our model, especially logistic regression which could be influenced by very large or small values. We will detect outliers in key numeric columns and decide on how to handle them.\n",
    "\n",
    "- We'll use two common methods: - Interquartile Range (IQR) method: We consider points as outliers if they fall below Q1 - 1.5/QR or above Q3 + 1.5IQR for a given feature. - Z-\n",
    "score method: We calculate the z-score (standard score) for each data point in a feature. A common rule is to treat points with |z| > 3 as potential outliers (3 standard\n",
    "deviations away from the mean).\n",
    "\n",
    "- We will apply these methods to the monthly_charges (as an example numeric feature, since charges could have outliers)."
   ]
  },
  {
   "cell_type": "markdown",
   "id": "240db848-1ca1-46b6-90d2-4c71b0aecbfa",
   "metadata": {},
   "source": [
    "### Task 20: Detect outliers in monthly_charges using the IQR method\n",
    "Calculate the first quartile (Q1) and third quartile (Q3) of monthly_charges, then compute the IQR (Q3 - Q1). Determine the IQR bounds:\n",
    "- Lower bound = Q1 - 1.5 * IQR\n",
    "- Upper bound = Q3 + 1.5 * IQR\n",
    "\n",
    "Find which data points in monthly_charges lie outside these bounds. How many outliers do you detect using this rule?"
   ]
  },
  {
   "cell_type": "code",
   "execution_count": 43,
   "id": "2f3b1585-6498-429a-963d-7b25319e957a",
   "metadata": {},
   "outputs": [
    {
     "data": {
      "text/plain": [
       "count    200000.000000\n",
       "mean         76.618568\n",
       "std          34.891140\n",
       "min          18.000333\n",
       "25%          46.902328\n",
       "50%          75.754153\n",
       "75%         104.441355\n",
       "max         149.998856\n",
       "Name: monthly_charges, dtype: float64"
      ]
     },
     "execution_count": 43,
     "metadata": {},
     "output_type": "execute_result"
    }
   ],
   "source": [
    "data.monthly_charges.describe()"
   ]
  },
  {
   "cell_type": "code",
   "execution_count": 44,
   "id": "b2a3456c-552c-437f-ad67-902787878b6d",
   "metadata": {},
   "outputs": [
    {
     "name": "stdout",
     "output_type": "stream",
     "text": [
      "Q1: 46.9\n",
      "Q3: 104.44\n",
      "IQR: 57.54\n"
     ]
    }
   ],
   "source": [
    "Q1 = data.monthly_charges.quantile(0.25)\n",
    "Q3 = data.monthly_charges.quantile(0.75)\n",
    "\n",
    "IQR = Q3-Q1\n",
    "print(f\"Q1: {round(Q1,2)}\\nQ3: {round(Q3,2)}\\nIQR: {round(IQR,2)}\".format(\".2f\"))"
   ]
  },
  {
   "cell_type": "code",
   "execution_count": 45,
   "id": "1acf2c52-8e0f-48d1-a760-26734e4e3f17",
   "metadata": {},
   "outputs": [
    {
     "name": "stdout",
     "output_type": "stream",
     "text": [
      "Lower Bound: -39.41\n",
      "Upper Bound: 190.75\n"
     ]
    }
   ],
   "source": [
    "lower_bound = Q1-1.5*IQR\n",
    "upper_bound = Q3+1.5*IQR\n",
    "print(f\"Lower Bound: {round(lower_bound,2)}\\nUpper Bound: {round(upper_bound,2)}\")"
   ]
  },
  {
   "cell_type": "code",
   "execution_count": 46,
   "id": "d4d0bd5c-ef23-4666-8255-1ad2f2cfc055",
   "metadata": {},
   "outputs": [],
   "source": [
    "ul_outliers = data[data['monthly_charges'] > upper_bound].shape[0]\n",
    "ll_outliers = data[data['monthly_charges']< lower_bound].shape[0]"
   ]
  },
  {
   "cell_type": "code",
   "execution_count": 47,
   "id": "4c35f0c3-8e0a-4b8a-b79e-eaa4438100de",
   "metadata": {},
   "outputs": [
    {
     "name": "stdout",
     "output_type": "stream",
     "text": [
      "0 0\n"
     ]
    }
   ],
   "source": [
    "print(ul_outliers, ll_outliers)"
   ]
  },
  {
   "cell_type": "code",
   "execution_count": 48,
   "id": "e19d873a-a853-4393-a97f-d6599ec9a830",
   "metadata": {},
   "outputs": [
    {
     "data": {
      "text/plain": [
       "<Axes: ylabel='monthly_charges'>"
      ]
     },
     "execution_count": 48,
     "metadata": {},
     "output_type": "execute_result"
    },
    {
     "data": {
      "image/png": "[encoded data removed]",
      "text/plain": [
       "<Figure size 640x480 with 1 Axes>"
      ]
     },
     "metadata": {},
     "output_type": "display_data"
    }
   ],
   "source": [
    "sns.boxplot(data.monthly_charges,color='Green')"
   ]
  },
  {
   "cell_type": "markdown",
   "id": "0e0e3e5a-b180-4247-a447-6a147fa836ef",
   "metadata": {},
   "source": [
    "### Task 21: Detect outliers in monthly_charges using the Z-method (This method is used when you have more than 20% as outliers uisng the IQR method)\n",
    "Calculate the Mean and Standard Deviation of monthly_charges. Determine the Z-Methods bounds:\n",
    "- Lower bound = MEAN - 3 * STD_DEV\n",
    "- Upper bound = MEAN + 3 * STD_DEV\n",
    "\n",
    "Find which data points in monthly_charges lie outside these bounds. How many outliers do you detect using this rule?"
   ]
  },
  {
   "cell_type": "code",
   "execution_count": 49,
   "id": "e6c0bd0f-11a0-4356-8515-517fc24d8d66",
   "metadata": {},
   "outputs": [
    {
     "name": "stdout",
     "output_type": "stream",
     "text": [
      "Mean: 76.62 | Std Dev: 34.89 | UL: 181.29 | LL: -28.05 | ul_outlier: 0 | ll_outliers: 0\n"
     ]
    }
   ],
   "source": [
    "mean = np.mean(data.monthly_charges)\n",
    "std = np.std(data.monthly_charges)\n",
    "\n",
    "LL = mean - 3 * std\n",
    "UL = mean + 3 * std\n",
    "\n",
    "ul_outliers = data[data['monthly_charges'] > UL].shape[0]\n",
    "ll_outliers = data[data['monthly_charges']< LL].shape[0]\n",
    "\n",
    "print(f\"Mean: {round(mean,2)} | Std Dev: {round(std,2)} | UL: {round(UL,2)} | LL: {round(LL,2)} | ul_outlier: {round(ll_outliers,2)} | ll_outliers: {round(ll_outliers,2)}\")"
   ]
  },
  {
   "cell_type": "markdown",
   "id": "7423f132-300b-4834-90a9-a88a6cae1ec1",
   "metadata": {},
   "source": [
    "### Task 22: We can now, run the same analysis for other numeric(int and float) columns"
   ]
  },
  {
   "cell_type": "markdown",
   "id": "39e0cf59-b37a-41ee-8832-7927b36a977f",
   "metadata": {},
   "source": [
    "`Outlier Treatment`\n",
    "\n",
    "Decide how to handle any outliers found in monthly_charges (and any other numeric columns if you checked them). Common strategies include: - Removing the outlier rows entirely. - Capping the outliers (e.g., set values above the upper bound to the upper bound, and below the lower bound to the lower bound). - Keeping them if they are legitimate values and not overly influential.\n",
    "\n",
    "For this analysis, if outliers exist and are very few, you might choose to remove those records for simplicity. Alternatively, if they are not extreme or numerous, you might leave them in but be aware of them.\n",
    "\n",
    "Implement the chosen outlier treatment for monthly_charges. (If no outliers were detected by either method, you can state that no action is needed or just skip removal.)"
   ]
  },
  {
   "cell_type": "markdown",
   "id": "91dc4046-b30f-412d-b7f9-5a02b0e34179",
   "metadata": {},
   "source": [
    "## Data Preprocessing (Encoding, Splitting, Scaling)\n",
    "Before we can feed the data into a logistic regression model, we need to prepare the features: - Convert categorical and boolean features into numeric form (encoding). - Split the data into training and test sets. - Scale/normalize features if needed, so that no single feature dominates due to scale differences (this can help the model converge faster and improve performance)."
   ]
  },
  {
   "cell_type": "markdown",
   "id": "6fb17843-b3cb-4678-adcd-5f1dd27500a2",
   "metadata": {},
   "source": [
    "### Task 23: Encode the target variable churn as numeric\n",
    "\n",
    "The churn column is currently in boolean (true/false) form (or Yes/No). Convert it to a numeric binary format, e.g., 1 for \"Yes/True\" (customer churned) and 0 for \"No/False\" (customer stayed). This will be our target y for modeling."
   ]
  },
  {
   "cell_type": "code",
   "execution_count": 50,
   "id": "8bdf0cb7-c759-428b-8e4e-0bd3faa1e1f2",
   "metadata": {},
   "outputs": [
    {
     "data": {
      "text/plain": [
       "customer_id\n",
       "dee7e090-ee80-4150-acb5-fa7fc0895357    1\n",
       "9f3a25f0-1269-486f-9887-2d9be7055875    1\n",
       "1c14ada8-df42-4964-a04e-17089dc07ca4    0\n",
       "Name: churn, dtype: int64"
      ]
     },
     "execution_count": 50,
     "metadata": {},
     "output_type": "execute_result"
    }
   ],
   "source": [
    "data.churn = data.churn.astype(int)\n",
    "data.churn.sample(3)"
   ]
  },
  {
   "cell_type": "markdown",
   "id": "41e65718-393b-4aeb-8cda-66c19540760f",
   "metadata": {},
   "source": [
    "### Task 24: Convert other boolean columns to 0/1\n",
    "Similarly, convert all other boolean columns (senior_citizen, partner, dependents, phone_service, paperless_billing) into 0/1 numeric values (if they are not already numeric). This ensures that all features are in numeric form for the model."
   ]
  },
  {
   "cell_type": "code",
   "execution_count": 51,
   "id": "a76db7c2-98c2-4ed8-8076-5a763f87cf50",
   "metadata": {},
   "outputs": [
    {
     "name": "stdout",
     "output_type": "stream",
     "text": [
      "<class 'pandas.core.frame.DataFrame'>\n",
      "Index: 200000 entries, 0f1eb305-e440-4576-9ab0-f8bdbf0bd17b to aeed3e0e-29cd-4c1f-9216-0711d42f3d7b\n",
      "Data columns (total 12 columns):\n",
      " #   Column                 Non-Null Count   Dtype              \n",
      "---  ------                 --------------   -----              \n",
      " 0   age                    200000 non-null  int64              \n",
      " 1   senior_citizen         200000 non-null  bool               \n",
      " 2   partner                200000 non-null  bool               \n",
      " 3   dependents             200000 non-null  bool               \n",
      " 4   tenure_months          200000 non-null  int64              \n",
      " 5   phone_service          200000 non-null  bool               \n",
      " 6   paperless_billing      200000 non-null  bool               \n",
      " 7   monthly_charges        200000 non-null  float64            \n",
      " 8   total_charges          200000 non-null  float64            \n",
      " 9   churn                  200000 non-null  int64              \n",
      " 10  last_interaction_date  200000 non-null  datetime64[ns, UTC]\n",
      " 11  region                 200000 non-null  object             \n",
      "dtypes: bool(5), datetime64[ns, UTC](1), float64(2), int64(3), object(1)\n",
      "memory usage: 17.2+ MB\n"
     ]
    }
   ],
   "source": [
    "data.info()"
   ]
  },
  {
   "cell_type": "code",
   "execution_count": 52,
   "id": "c096ce46-1447-4fa3-bdd6-8c9cc8bb2cbe",
   "metadata": {},
   "outputs": [],
   "source": [
    "bool_cols = ['senior_citizen', 'partner', 'dependents', 'phone_service', 'paperless_billing']\n",
    "data[bool_cols] = data[bool_cols].astype(int)"
   ]
  },
  {
   "cell_type": "code",
   "execution_count": 53,
   "id": "96ccba7e-378e-4736-8095-9ef314b34987",
   "metadata": {
    "scrolled": true
   },
   "outputs": [
    {
     "name": "stdout",
     "output_type": "stream",
     "text": [
      "<class 'pandas.core.frame.DataFrame'>\n",
      "Index: 200000 entries, 0f1eb305-e440-4576-9ab0-f8bdbf0bd17b to aeed3e0e-29cd-4c1f-9216-0711d42f3d7b\n",
      "Data columns (total 12 columns):\n",
      " #   Column                 Non-Null Count   Dtype              \n",
      "---  ------                 --------------   -----              \n",
      " 0   age                    200000 non-null  int64              \n",
      " 1   senior_citizen         200000 non-null  int64              \n",
      " 2   partner                200000 non-null  int64              \n",
      " 3   dependents             200000 non-null  int64              \n",
      " 4   tenure_months          200000 non-null  int64              \n",
      " 5   phone_service          200000 non-null  int64              \n",
      " 6   paperless_billing      200000 non-null  int64              \n",
      " 7   monthly_charges        200000 non-null  float64            \n",
      " 8   total_charges          200000 non-null  float64            \n",
      " 9   churn                  200000 non-null  int64              \n",
      " 10  last_interaction_date  200000 non-null  datetime64[ns, UTC]\n",
      " 11  region                 200000 non-null  object             \n",
      "dtypes: datetime64[ns, UTC](1), float64(2), int64(8), object(1)\n",
      "memory usage: 23.9+ MB\n"
     ]
    }
   ],
   "source": [
    "data.info()"
   ]
  },
  {
   "cell_type": "markdown",
   "id": "c286633c-bc34-4683-bfc5-6243e8c2192c",
   "metadata": {},
   "source": [
    "### Task 25: Extract Date Features like dayofweek, Month, Date, Year, Hour, Mins etc. and drop the timestamp col"
   ]
  },
  {
   "cell_type": "code",
   "execution_count": 54,
   "id": "d73761d8-69ad-46a3-ba96-7b354d9d2572",
   "metadata": {},
   "outputs": [],
   "source": [
    "data['day_of_week'] = data['last_interaction_date'].dt.weekday\n",
    "data['year'] = data['last_interaction_date'].dt.year\n",
    "data['month'] = data['last_interaction_date'].dt.month\n",
    "data['date'] = data['last_interaction_date'].dt.day\n",
    "data['hour'] = data['last_interaction_date'].dt.hour\n",
    "data['minute'] = data['last_interaction_date'].dt.minute\n",
    "data['second'] = data['last_interaction_date'].dt.second\n",
    "data['week_of_year'] = data['last_interaction_date'].dt.isocalendar().week\n",
    "data['quarter'] = data['last_interaction_date'].dt.quarter\n",
    "data.drop('last_interaction_date', axis=1, inplace=True)"
   ]
  },
  {
   "cell_type": "code",
   "execution_count": 55,
   "id": "1da561c4-b25b-4f4b-bd1e-387577adec4d",
   "metadata": {},
   "outputs": [
    {
     "data": {
      "text/html": [
       "<div>\n",
       "<style scoped>\n",
       "    .dataframe tbody tr th:only-of-type {\n",
       "        vertical-align: middle;\n",
       "    }\n",
       "\n",
       "    .dataframe tbody tr th {\n",
       "        vertical-align: top;\n",
       "    }\n",
       "\n",
       "    .dataframe thead th {\n",
       "        text-align: right;\n",
       "    }\n",
       "</style>\n",
       "<table border=\"1\" class=\"dataframe\">\n",
       "  <thead>\n",
       "    <tr style=\"text-align: right;\">\n",
       "      <th></th>\n",
       "      <th>age</th>\n",
       "      <th>senior_citizen</th>\n",
       "      <th>partner</th>\n",
       "      <th>dependents</th>\n",
       "      <th>tenure_months</th>\n",
       "      <th>phone_service</th>\n",
       "      <th>paperless_billing</th>\n",
       "      <th>monthly_charges</th>\n",
       "      <th>total_charges</th>\n",
       "      <th>churn</th>\n",
       "      <th>region</th>\n",
       "      <th>day_of_week</th>\n",
       "      <th>year</th>\n",
       "      <th>month</th>\n",
       "      <th>date</th>\n",
       "      <th>hour</th>\n",
       "      <th>minute</th>\n",
       "      <th>second</th>\n",
       "      <th>week_of_year</th>\n",
       "      <th>quarter</th>\n",
       "    </tr>\n",
       "    <tr>\n",
       "      <th>customer_id</th>\n",
       "      <th></th>\n",
       "      <th></th>\n",
       "      <th></th>\n",
       "      <th></th>\n",
       "      <th></th>\n",
       "      <th></th>\n",
       "      <th></th>\n",
       "      <th></th>\n",
       "      <th></th>\n",
       "      <th></th>\n",
       "      <th></th>\n",
       "      <th></th>\n",
       "      <th></th>\n",
       "      <th></th>\n",
       "      <th></th>\n",
       "      <th></th>\n",
       "      <th></th>\n",
       "      <th></th>\n",
       "      <th></th>\n",
       "      <th></th>\n",
       "    </tr>\n",
       "  </thead>\n",
       "  <tbody>\n",
       "    <tr>\n",
       "      <th>de64e227-9d09-4a71-b60a-d8dc710d5205</th>\n",
       "      <td>83</td>\n",
       "      <td>0</td>\n",
       "      <td>0</td>\n",
       "      <td>1</td>\n",
       "      <td>0</td>\n",
       "      <td>0</td>\n",
       "      <td>0</td>\n",
       "      <td>74.887820</td>\n",
       "      <td>5041.168037</td>\n",
       "      <td>1</td>\n",
       "      <td>Montana</td>\n",
       "      <td>0</td>\n",
       "      <td>2024</td>\n",
       "      <td>8</td>\n",
       "      <td>5</td>\n",
       "      <td>7</td>\n",
       "      <td>52</td>\n",
       "      <td>30</td>\n",
       "      <td>32</td>\n",
       "      <td>3</td>\n",
       "    </tr>\n",
       "    <tr>\n",
       "      <th>e6bfb4a3-832f-48a4-98e6-268a801d59ac</th>\n",
       "      <td>86</td>\n",
       "      <td>1</td>\n",
       "      <td>1</td>\n",
       "      <td>0</td>\n",
       "      <td>15</td>\n",
       "      <td>1</td>\n",
       "      <td>0</td>\n",
       "      <td>44.081028</td>\n",
       "      <td>5852.550720</td>\n",
       "      <td>0</td>\n",
       "      <td>Ohio</td>\n",
       "      <td>5</td>\n",
       "      <td>2025</td>\n",
       "      <td>5</td>\n",
       "      <td>24</td>\n",
       "      <td>11</td>\n",
       "      <td>46</td>\n",
       "      <td>36</td>\n",
       "      <td>21</td>\n",
       "      <td>2</td>\n",
       "    </tr>\n",
       "    <tr>\n",
       "      <th>e42bddf3-e343-4648-983c-cb5368c8b80f</th>\n",
       "      <td>90</td>\n",
       "      <td>0</td>\n",
       "      <td>0</td>\n",
       "      <td>0</td>\n",
       "      <td>70</td>\n",
       "      <td>0</td>\n",
       "      <td>0</td>\n",
       "      <td>69.888383</td>\n",
       "      <td>1631.867860</td>\n",
       "      <td>0</td>\n",
       "      <td>Wisconsin</td>\n",
       "      <td>3</td>\n",
       "      <td>2025</td>\n",
       "      <td>6</td>\n",
       "      <td>19</td>\n",
       "      <td>9</td>\n",
       "      <td>46</td>\n",
       "      <td>51</td>\n",
       "      <td>25</td>\n",
       "      <td>2</td>\n",
       "    </tr>\n",
       "  </tbody>\n",
       "</table>\n",
       "</div>"
      ],
      "text/plain": [
       "                                      age  senior_citizen  partner  \\\n",
       "customer_id                                                          \n",
       "de64e227-9d09-4a71-b60a-d8dc710d5205   83               0        0   \n",
       "e6bfb4a3-832f-48a4-98e6-268a801d59ac   86               1        1   \n",
       "e42bddf3-e343-4648-983c-cb5368c8b80f   90               0        0   \n",
       "\n",
       "                                      dependents  tenure_months  \\\n",
       "customer_id                                                       \n",
       "de64e227-9d09-4a71-b60a-d8dc710d5205           1              0   \n",
       "e6bfb4a3-832f-48a4-98e6-268a801d59ac           0             15   \n",
       "e42bddf3-e343-4648-983c-cb5368c8b80f           0             70   \n",
       "\n",
       "                                      phone_service  paperless_billing  \\\n",
       "customer_id                                                              \n",
       "de64e227-9d09-4a71-b60a-d8dc710d5205              0                  0   \n",
       "e6bfb4a3-832f-48a4-98e6-268a801d59ac              1                  0   \n",
       "e42bddf3-e343-4648-983c-cb5368c8b80f              0                  0   \n",
       "\n",
       "                                      monthly_charges  total_charges  churn  \\\n",
       "customer_id                                                                   \n",
       "de64e227-9d09-4a71-b60a-d8dc710d5205        74.887820    5041.168037      1   \n",
       "e6bfb4a3-832f-48a4-98e6-268a801d59ac        44.081028    5852.550720      0   \n",
       "e42bddf3-e343-4648-983c-cb5368c8b80f        69.888383    1631.867860      0   \n",
       "\n",
       "                                         region  day_of_week  year  month  \\\n",
       "customer_id                                                                 \n",
       "de64e227-9d09-4a71-b60a-d8dc710d5205    Montana            0  2024      8   \n",
       "e6bfb4a3-832f-48a4-98e6-268a801d59ac       Ohio            5  2025      5   \n",
       "e42bddf3-e343-4648-983c-cb5368c8b80f  Wisconsin            3  2025      6   \n",
       "\n",
       "                                      date  hour  minute  second  \\\n",
       "customer_id                                                        \n",
       "de64e227-9d09-4a71-b60a-d8dc710d5205     5     7      52      30   \n",
       "e6bfb4a3-832f-48a4-98e6-268a801d59ac    24    11      46      36   \n",
       "e42bddf3-e343-4648-983c-cb5368c8b80f    19     9      46      51   \n",
       "\n",
       "                                      week_of_year  quarter  \n",
       "customer_id                                                  \n",
       "de64e227-9d09-4a71-b60a-d8dc710d5205            32        3  \n",
       "e6bfb4a3-832f-48a4-98e6-268a801d59ac            21        2  \n",
       "e42bddf3-e343-4648-983c-cb5368c8b80f            25        2  "
      ]
     },
     "execution_count": 55,
     "metadata": {},
     "output_type": "execute_result"
    }
   ],
   "source": [
    "data.sample(3)"
   ]
  },
  {
   "cell_type": "markdown",
   "id": "1d6ccefe-2b40-4740-9d9f-7b8076c05922",
   "metadata": {},
   "source": [
    "### Task 26: One-hot encode the region column\n",
    "The region column is categorical with many possible values (states or regions). We need to convert it into a numeric form. Use one-hot encoding to create dummy variables for each unique region. For example, region \"Ohio\" becomes a binary column that is 1 for Ohio residents and 0 otherwise, and so on for each region.\n",
    "\n",
    "You can use pandas get_dummies function to do this. Be careful to avoid the dummy variable trap (when one dummy column is redundant because it can be inferred from\n",
    "others). You can set drop_first=True to drop one of the region dummy columns, or handle it manually."
   ]
  },
  {
   "cell_type": "code",
   "execution_count": 74,
   "id": "4bc3037c-5308-4d3d-a115-71cc54d622cf",
   "metadata": {},
   "outputs": [],
   "source": [
    "region_dummies = pd.get_dummies(data['region'], drop_first=True, dtype='int')\n",
    "\n",
    "data = pd.concat([data, region_dummies], axis=1)\n",
    "\n",
    "data.sample(3)\n",
    "data.drop(columns='region', inplace=True)"
   ]
  },
  {
   "cell_type": "code",
   "execution_count": 75,
   "id": "d5eedb92-9130-4821-bf4e-7853f1a02595",
   "metadata": {},
   "outputs": [],
   "source": [
    "data.to_csv('cleaned_data.csv')"
   ]
  },
  {
   "cell_type": "markdown",
   "id": "2358d9b7-41ec-44ba-96f0-396e7b24d0c2",
   "metadata": {},
   "source": [
    "### Task 27: Separate features and target variable\n",
    "Now that the data is preprocessed, split the DataFrame into features (X) and target (y). - y should be the churn column (the 0/1 labels we want to predict). - X should be all the remaining columns that will serve as inputs to the model.\n",
    "\n",
    "Make sure that X does not include the target itself or any columns we decided to drop (like IDs, emails, etc., which we already removed)."
   ]
  },
  {
   "cell_type": "code",
   "execution_count": 76,
   "id": "f64062d6-8328-4f4e-a725-be1efa3dcf8c",
   "metadata": {},
   "outputs": [],
   "source": [
    "X = data.drop(columns='churn')\n",
    "y = data.churn"
   ]
  },
  {
   "cell_type": "markdown",
   "id": "3d988eb6-193f-400e-bbc6-3089e379f092",
   "metadata": {},
   "source": [
    "### Task 28: Split data into training and testing sets\n",
    "Use sklearn.model_selection.train_test_split to split the dataset into training and test sets. Typically, we might use 70% of the data for training and 30% for testing (or 80/20,etc.). Set a random_state for reproducibility.\n",
    "\n",
    "The result should be X_train, X test, y_train, y_test."
   ]
  },
  {
   "cell_type": "code",
   "execution_count": 77,
   "id": "daf5b34a-64d2-497a-beed-2525f738dd62",
   "metadata": {},
   "outputs": [],
   "source": [
    "X_train, X_test, y_train, y_test = train_test_split(X, y, test_size=0.20, random_state=42) #try stratify=y"
   ]
  },
  {
   "cell_type": "markdown",
   "id": "51abde1c-50dc-4cd1-9cfe-d0c38c8a7bab",
   "metadata": {},
   "source": [
    "### Task 29: Feature scaling (Standardization)\n",
    "For logistic regression, it is often beneficial to scale the features so they are on comparable scales (although logistic regression can still work without scaling, scaling can improve convergence and performance, especially if regularization is used).\n",
    "\n",
    "Use a StandardScaler (from sklearn.preprocessing) to standardize the numeric features in X. Important: Fit the scaler on the training data only, then use it to transform both the training and testing feature data. This prevents information from the test set leaking into the training process."
   ]
  },
  {
   "cell_type": "code",
   "execution_count": 78,
   "id": "661750bb-f015-4c94-84e4-d1dd4d2ffd2c",
   "metadata": {},
   "outputs": [],
   "source": [
    "numeric_cols = X_train.select_dtypes(include=[\"int64\", \"float64\"]).columns\n",
    "\n",
    "st = StandardScaler()\n",
    "st.fit(X_train[numeric_cols])\n",
    "\n",
    "X_train_scaled = X_train.copy()\n",
    "X_test_scaled = X_test.copy()\n",
    "\n",
    "X_train_scaled[numeric_cols] = st.transform(X_train[numeric_cols])\n",
    "X_test_scaled[numeric_cols] = st.transform(X_test[numeric_cols])"
   ]
  },
  {
   "cell_type": "markdown",
   "id": "c1b1400e-e92d-48ae-9e6d-e0ab41b13138",
   "metadata": {},
   "source": [
    "## Machine Learning Models and Comparison"
   ]
  },
  {
   "cell_type": "code",
   "execution_count": 80,
   "id": "bd23ae88-9bf2-4b52-973b-8c878bf9aba0",
   "metadata": {},
   "outputs": [
    {
     "name": "stdout",
     "output_type": "stream",
     "text": [
      "Logistic Regression:\n",
      "Classification Report: \n",
      "               precision    recall  f1-score   support\n",
      "\n",
      "           0       0.50      0.46      0.48     20143\n",
      "           1       0.50      0.54      0.52     19857\n",
      "\n",
      "    accuracy                           0.50     40000\n",
      "   macro avg       0.50      0.50      0.50     40000\n",
      "weighted avg       0.50      0.50      0.50     40000\n",
      "\n",
      "\n",
      "\n",
      "ROC-AUC Curve: \n",
      " 0.5009092102311\n",
      "\n",
      "\n",
      "Confustion Matrix: \n",
      " [[ 9240 10903]\n",
      " [ 9114 10743]]\n"
     ]
    }
   ],
   "source": [
    "from sklearn.linear_model import LogisticRegression\n",
    "from sklearn.metrics import classification_report, confusion_matrix, roc_auc_score\n",
    "log_reg = LogisticRegression(max_iter=1000)\n",
    "log_reg.fit(X_train, y_train)\n",
    "y_pred = log_reg.predict(X_test)\n",
    "y_proba = log_reg.predict_proba(X_test)[:,1]\n",
    "print('Logistic Regression:')\n",
    "print('Classification Report: \\n',classification_report(y_test, y_pred))\n",
    "print('\\n\\nROC-AUC Curve: \\n',roc_auc_score(y_test, y_proba))\n",
    "print('\\n\\nConfustion Matrix: \\n', confusion_matrix(y_test, y_pred))"
   ]
  },
  {
   "cell_type": "code",
   "execution_count": null,
   "id": "e191d151-3b78-4945-b379-c0a09f08e281",
   "metadata": {},
   "outputs": [],
   "source": []
  }
 ],
 "metadata": {
  "kernelspec": {
   "display_name": "Python 3 (ipykernel)",
   "language": "python",
   "name": "python3"
  },
  "language_info": {
   "codemirror_mode": {
    "name": "ipython",
    "version": 3
   },
   "file_extension": ".py",
   "mimetype": "text/x-python",
   "name": "python",
   "nbconvert_exporter": "python",
   "pygments_lexer": "ipython3",
   "version": "3.12.5"
  }
 },
 "nbformat": 4,
 "nbformat_minor": 5
}
